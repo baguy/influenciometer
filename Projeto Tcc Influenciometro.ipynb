{
 "cells": [
  {
   "cell_type": "markdown",
   "metadata": {},
   "source": [
    "# Projeto TCC Análise e Desenvolvimento de Sistemas\n",
    "## Influenciômetro do Twitter\n",
    "### Mayra Dantas Bueno\n",
    "### Orientador Nelson Alves Pinto\n",
    "Última atualização: 15/06/2019"
   ]
  },
  {
   "cell_type": "markdown",
   "metadata": {},
   "source": [
    "------\n",
    "\n",
    "Importações"
   ]
  },
  {
   "cell_type": "code",
   "execution_count": 20,
   "metadata": {},
   "outputs": [],
   "source": [
    "import pandas as pd # Biblioteca para manipulação e análise de dados [criação de dataframes]\n",
    "import numpy as np # Pacote matrizes multidimensionais e funções matemáticas\n",
    "import requests # Biblioteca para facilitar requerimentos HTTP\n",
    "import tweepy # Python library for accessing the Twitter API\n",
    "import csv # Pacote para salvar e manipular arquivos s=em csv[planilhas excel] \n",
    "import matplotlib.pyplot as plt # Biblioteca para gráficos a partir de dataframes\n",
    "%matplotlib inline\n",
    "import seaborn as sns # Biblioteca para visualização de dados baseada no matplotlib\n",
    "import json # Pacote para manipular objetos json\n",
    "import sys # Módulo "
   ]
  },
  {
   "cell_type": "markdown",
   "metadata": {},
   "source": [
    "API Twitter — chaves de acesso e autenticação"
   ]
  },
  {
   "cell_type": "code",
   "execution_count": 21,
   "metadata": {},
   "outputs": [],
   "source": [
    "# Chaves de acesso pessoais da minha conta de desenvolvedor\n",
    "consumer_key = ''\n",
    "consumer_secret = ''\n",
    "access_key = ''\n",
    "access_secret = ''\n",
    "\n",
    "#Autenticar minhas chaves de acesso\n",
    "auth = tweepy.OAuthHandler(consumer_key, consumer_secret)\n",
    "auth.set_access_token(access_key, access_secret)\n",
    "\n",
    "api = tweepy.API(auth, wait_on_rate_limit=True, wait_on_rate_limit_notify=True)"
   ]
  },
  {
   "cell_type": "markdown",
   "metadata": {},
   "source": [
    "Função principal — pegar elementos dos últimos tweets de determinado usuário"
   ]
  },
  {
   "cell_type": "code",
   "execution_count": 100,
   "metadata": {},
   "outputs": [],
   "source": [
    "# Função para pegar id dos últimos 20 tweets de um usuário e salvar em arquivo json\n",
    "# param: [str] nome_do_usuario sem '@'\n",
    "# return: arquivo json\n",
    "tweets_array=[]\n",
    "def get_tweets(username):\n",
    "    \n",
    "    # Quantidade dos últimos tweets a serem baixados\n",
    "    number_of_tweets = 20\n",
    "      \n",
    "    # Método para pegar a id dos últimos number_of_tweets e colocá-los em um vetor\n",
    "    for tweet in tweepy.Cursor(api.user_timeline, screen_name = username).items(number_of_tweets):\n",
    "        tweets_array.append(tweet.id_str)      \n",
    "    \n",
    "    # Método para iterar sobre o vetor de ids dos tweets e pegar as informações pelo api.get_status de cada um\n",
    "    # Obs.: Algumas informações dos tweets só podem ser acessadas pela conta premium/enterprise\n",
    "    tweet_data = {}\n",
    "    for tweet in tweets_array:\n",
    "\n",
    "        try:\n",
    "            tweet_status = api.get_status(tweet,\n",
    "                                          wait_on_rate_limit=True, # A API contém um limite de requerimentos\n",
    "                                          wait_on_rate_limit_notify=True)\n",
    "            tweet_data[str(tweet)] = tweet_status._json\n",
    "            print(\"Bem-sucedido: \" + str(tweet))\n",
    "        except: \n",
    "            print(\"Error for: \" + str(tweet))\n",
    "        \n",
    "    # Método para salvar os elementos em um arquivo externo json\n",
    "    with open(username +'_tweet_json.json', 'w', encoding=\"utf-8\") as file:\n",
    "        json.dump(tweet_data, file, sort_keys = True, indent=4, ensure_ascii = False)"
   ]
  },
  {
   "cell_type": "markdown",
   "metadata": {},
   "source": [
    "Chamar método — mensagem de confirmação/erro e arquivo json salvo"
   ]
  },
  {
   "cell_type": "code",
   "execution_count": 101,
   "metadata": {},
   "outputs": [
    {
     "name": "stdout",
     "output_type": "stream",
     "text": [
      "Bem-sucedido: 1140799210964414464\n",
      "Bem-sucedido: 1140798271931080704\n",
      "Bem-sucedido: 1140797648758120449\n",
      "Bem-sucedido: 1140797112570875904\n",
      "Bem-sucedido: 1140796200590778368\n",
      "Bem-sucedido: 1140795234231570434\n",
      "Bem-sucedido: 1140788115784626176\n",
      "Bem-sucedido: 1140747563525537792\n",
      "Bem-sucedido: 1140733664638066688\n",
      "Bem-sucedido: 1140729574503772160\n",
      "Bem-sucedido: 1140728580755750912\n",
      "Bem-sucedido: 1140728229445042176\n",
      "Bem-sucedido: 1140727542170603520\n",
      "Bem-sucedido: 1140722378642563072\n",
      "Bem-sucedido: 1140719588889395200\n",
      "Bem-sucedido: 1140710307582468096\n",
      "Bem-sucedido: 1140696670792851456\n",
      "Bem-sucedido: 1140552530574708739\n",
      "Bem-sucedido: 1140547589781147650\n",
      "Bem-sucedido: 1140542713831362561\n"
     ]
    }
   ],
   "source": [
    "username = \"nilmoretto\"\n",
    "get_tweets(username)"
   ]
  },
  {
   "cell_type": "markdown",
   "metadata": {},
   "source": [
    "Criação de dataframe com informações do json para avaliação"
   ]
  },
  {
   "cell_type": "code",
   "execution_count": 102,
   "metadata": {},
   "outputs": [],
   "source": [
    "tweet_df = pd.read_json(username+'_tweet_json.json',orient='index')"
   ]
  },
  {
   "cell_type": "markdown",
   "metadata": {},
   "source": [
    "Exploração do dataframe"
   ]
  },
  {
   "cell_type": "code",
   "execution_count": 103,
   "metadata": {},
   "outputs": [
    {
     "data": {
      "text/html": [
       "<div>\n",
       "<style scoped>\n",
       "    .dataframe tbody tr th:only-of-type {\n",
       "        vertical-align: middle;\n",
       "    }\n",
       "\n",
       "    .dataframe tbody tr th {\n",
       "        vertical-align: top;\n",
       "    }\n",
       "\n",
       "    .dataframe thead th {\n",
       "        text-align: right;\n",
       "    }\n",
       "</style>\n",
       "<table border=\"1\" class=\"dataframe\">\n",
       "  <thead>\n",
       "    <tr style=\"text-align: right;\">\n",
       "      <th></th>\n",
       "      <th>contributors</th>\n",
       "      <th>coordinates</th>\n",
       "      <th>created_at</th>\n",
       "      <th>entities</th>\n",
       "      <th>favorite_count</th>\n",
       "      <th>favorited</th>\n",
       "      <th>geo</th>\n",
       "      <th>id</th>\n",
       "      <th>id_str</th>\n",
       "      <th>in_reply_to_screen_name</th>\n",
       "      <th>...</th>\n",
       "      <th>quoted_status</th>\n",
       "      <th>quoted_status_id</th>\n",
       "      <th>quoted_status_id_str</th>\n",
       "      <th>retweet_count</th>\n",
       "      <th>retweeted</th>\n",
       "      <th>retweeted_status</th>\n",
       "      <th>source</th>\n",
       "      <th>text</th>\n",
       "      <th>truncated</th>\n",
       "      <th>user</th>\n",
       "    </tr>\n",
       "  </thead>\n",
       "  <tbody>\n",
       "    <tr>\n",
       "      <th>2006-02-21 17:25:13.831362561</th>\n",
       "      <td>NaN</td>\n",
       "      <td>NaN</td>\n",
       "      <td>2019-06-17 08:52:27</td>\n",
       "      <td>{'hashtags': [], 'symbols': [], 'urls': [], 'u...</td>\n",
       "      <td>14</td>\n",
       "      <td>0</td>\n",
       "      <td>NaN</td>\n",
       "      <td>1140542713831362560</td>\n",
       "      <td>1140542713831362560</td>\n",
       "      <td>nilmoretto</td>\n",
       "      <td>...</td>\n",
       "      <td>NaN</td>\n",
       "      <td>NaN</td>\n",
       "      <td>NaN</td>\n",
       "      <td>0</td>\n",
       "      <td>0</td>\n",
       "      <td>NaN</td>\n",
       "      <td>&lt;a href=\"http://twitter.com/download/android\" ...</td>\n",
       "      <td>@erikpunjab @Brunoo_Rossa E nao, ainda nao sab...</td>\n",
       "      <td>0</td>\n",
       "      <td>{'contributors_enabled': False, 'created_at': ...</td>\n",
       "    </tr>\n",
       "    <tr>\n",
       "      <th>2006-02-21 18:46:29.781147650</th>\n",
       "      <td>NaN</td>\n",
       "      <td>NaN</td>\n",
       "      <td>2019-06-17 09:11:50</td>\n",
       "      <td>{'hashtags': [], 'symbols': [], 'urls': [{'dis...</td>\n",
       "      <td>0</td>\n",
       "      <td>0</td>\n",
       "      <td>NaN</td>\n",
       "      <td>1140547589781147648</td>\n",
       "      <td>1140547589781147648</td>\n",
       "      <td>None</td>\n",
       "      <td>...</td>\n",
       "      <td>NaN</td>\n",
       "      <td>1.140227e+18</td>\n",
       "      <td>1.140227e+18</td>\n",
       "      <td>1645</td>\n",
       "      <td>0</td>\n",
       "      <td>{'contributors': None, 'coordinates': None, 'c...</td>\n",
       "      <td>&lt;a href=\"http://twitter.com/download/android\" ...</td>\n",
       "      <td>RT @lucasberti: Ã‰ muita gente que nÃ£o sabe a...</td>\n",
       "      <td>0</td>\n",
       "      <td>{'contributors_enabled': False, 'created_at': ...</td>\n",
       "    </tr>\n",
       "    <tr>\n",
       "      <th>2006-02-21 20:08:50.574708739</th>\n",
       "      <td>NaN</td>\n",
       "      <td>NaN</td>\n",
       "      <td>2019-06-17 09:31:28</td>\n",
       "      <td>{'hashtags': [], 'symbols': [], 'urls': [], 'u...</td>\n",
       "      <td>0</td>\n",
       "      <td>0</td>\n",
       "      <td>NaN</td>\n",
       "      <td>1140552530574708736</td>\n",
       "      <td>1140552530574708736</td>\n",
       "      <td>None</td>\n",
       "      <td>...</td>\n",
       "      <td>NaN</td>\n",
       "      <td>NaN</td>\n",
       "      <td>NaN</td>\n",
       "      <td>4378</td>\n",
       "      <td>0</td>\n",
       "      <td>{'contributors': None, 'coordinates': None, 'c...</td>\n",
       "      <td>&lt;a href=\"http://twitter.com/download/android\" ...</td>\n",
       "      <td>RT @pavarini: Uma senhora de 73 anos vendia ba...</td>\n",
       "      <td>0</td>\n",
       "      <td>{'contributors_enabled': False, 'created_at': ...</td>\n",
       "    </tr>\n",
       "    <tr>\n",
       "      <th>2006-02-23 12:11:10.792851456</th>\n",
       "      <td>NaN</td>\n",
       "      <td>NaN</td>\n",
       "      <td>2019-06-17 19:04:14</td>\n",
       "      <td>{'hashtags': [], 'symbols': [], 'urls': [], 'u...</td>\n",
       "      <td>0</td>\n",
       "      <td>0</td>\n",
       "      <td>NaN</td>\n",
       "      <td>1140696670792851456</td>\n",
       "      <td>1140696670792851456</td>\n",
       "      <td>None</td>\n",
       "      <td>...</td>\n",
       "      <td>NaN</td>\n",
       "      <td>NaN</td>\n",
       "      <td>NaN</td>\n",
       "      <td>201</td>\n",
       "      <td>0</td>\n",
       "      <td>{'contributors': None, 'coordinates': None, 'c...</td>\n",
       "      <td>&lt;a href=\"http://twitter.com/download/android\" ...</td>\n",
       "      <td>RT @EstevaoSlowP: Se as propostas do governo n...</td>\n",
       "      <td>0</td>\n",
       "      <td>{'contributors_enabled': False, 'created_at': ...</td>\n",
       "    </tr>\n",
       "    <tr>\n",
       "      <th>2006-02-23 15:58:27.582468096</th>\n",
       "      <td>NaN</td>\n",
       "      <td>NaN</td>\n",
       "      <td>2019-06-17 19:58:25</td>\n",
       "      <td>{'hashtags': [], 'symbols': [], 'urls': [], 'u...</td>\n",
       "      <td>0</td>\n",
       "      <td>0</td>\n",
       "      <td>NaN</td>\n",
       "      <td>1140710307582468096</td>\n",
       "      <td>1140710307582468096</td>\n",
       "      <td>None</td>\n",
       "      <td>...</td>\n",
       "      <td>NaN</td>\n",
       "      <td>NaN</td>\n",
       "      <td>NaN</td>\n",
       "      <td>58</td>\n",
       "      <td>0</td>\n",
       "      <td>{'contributors': None, 'coordinates': None, 'c...</td>\n",
       "      <td>&lt;a href=\"https://mobile.twitter.com\" rel=\"nofo...</td>\n",
       "      <td>RT @_brenocosta_: MatÃ©ria mais importante do ...</td>\n",
       "      <td>0</td>\n",
       "      <td>{'contributors_enabled': False, 'created_at': ...</td>\n",
       "    </tr>\n",
       "  </tbody>\n",
       "</table>\n",
       "<p>5 rows × 29 columns</p>\n",
       "</div>"
      ],
      "text/plain": [
       "                               contributors  coordinates          created_at  \\\n",
       "2006-02-21 17:25:13.831362561           NaN          NaN 2019-06-17 08:52:27   \n",
       "2006-02-21 18:46:29.781147650           NaN          NaN 2019-06-17 09:11:50   \n",
       "2006-02-21 20:08:50.574708739           NaN          NaN 2019-06-17 09:31:28   \n",
       "2006-02-23 12:11:10.792851456           NaN          NaN 2019-06-17 19:04:14   \n",
       "2006-02-23 15:58:27.582468096           NaN          NaN 2019-06-17 19:58:25   \n",
       "\n",
       "                                                                        entities  \\\n",
       "2006-02-21 17:25:13.831362561  {'hashtags': [], 'symbols': [], 'urls': [], 'u...   \n",
       "2006-02-21 18:46:29.781147650  {'hashtags': [], 'symbols': [], 'urls': [{'dis...   \n",
       "2006-02-21 20:08:50.574708739  {'hashtags': [], 'symbols': [], 'urls': [], 'u...   \n",
       "2006-02-23 12:11:10.792851456  {'hashtags': [], 'symbols': [], 'urls': [], 'u...   \n",
       "2006-02-23 15:58:27.582468096  {'hashtags': [], 'symbols': [], 'urls': [], 'u...   \n",
       "\n",
       "                               favorite_count  favorited  geo  \\\n",
       "2006-02-21 17:25:13.831362561              14          0  NaN   \n",
       "2006-02-21 18:46:29.781147650               0          0  NaN   \n",
       "2006-02-21 20:08:50.574708739               0          0  NaN   \n",
       "2006-02-23 12:11:10.792851456               0          0  NaN   \n",
       "2006-02-23 15:58:27.582468096               0          0  NaN   \n",
       "\n",
       "                                                id               id_str  \\\n",
       "2006-02-21 17:25:13.831362561  1140542713831362560  1140542713831362560   \n",
       "2006-02-21 18:46:29.781147650  1140547589781147648  1140547589781147648   \n",
       "2006-02-21 20:08:50.574708739  1140552530574708736  1140552530574708736   \n",
       "2006-02-23 12:11:10.792851456  1140696670792851456  1140696670792851456   \n",
       "2006-02-23 15:58:27.582468096  1140710307582468096  1140710307582468096   \n",
       "\n",
       "                              in_reply_to_screen_name  ...  quoted_status  \\\n",
       "2006-02-21 17:25:13.831362561              nilmoretto  ...            NaN   \n",
       "2006-02-21 18:46:29.781147650                    None  ...            NaN   \n",
       "2006-02-21 20:08:50.574708739                    None  ...            NaN   \n",
       "2006-02-23 12:11:10.792851456                    None  ...            NaN   \n",
       "2006-02-23 15:58:27.582468096                    None  ...            NaN   \n",
       "\n",
       "                               quoted_status_id  quoted_status_id_str  \\\n",
       "2006-02-21 17:25:13.831362561               NaN                   NaN   \n",
       "2006-02-21 18:46:29.781147650      1.140227e+18          1.140227e+18   \n",
       "2006-02-21 20:08:50.574708739               NaN                   NaN   \n",
       "2006-02-23 12:11:10.792851456               NaN                   NaN   \n",
       "2006-02-23 15:58:27.582468096               NaN                   NaN   \n",
       "\n",
       "                               retweet_count  retweeted  \\\n",
       "2006-02-21 17:25:13.831362561              0          0   \n",
       "2006-02-21 18:46:29.781147650           1645          0   \n",
       "2006-02-21 20:08:50.574708739           4378          0   \n",
       "2006-02-23 12:11:10.792851456            201          0   \n",
       "2006-02-23 15:58:27.582468096             58          0   \n",
       "\n",
       "                                                                retweeted_status  \\\n",
       "2006-02-21 17:25:13.831362561                                                NaN   \n",
       "2006-02-21 18:46:29.781147650  {'contributors': None, 'coordinates': None, 'c...   \n",
       "2006-02-21 20:08:50.574708739  {'contributors': None, 'coordinates': None, 'c...   \n",
       "2006-02-23 12:11:10.792851456  {'contributors': None, 'coordinates': None, 'c...   \n",
       "2006-02-23 15:58:27.582468096  {'contributors': None, 'coordinates': None, 'c...   \n",
       "\n",
       "                                                                          source  \\\n",
       "2006-02-21 17:25:13.831362561  <a href=\"http://twitter.com/download/android\" ...   \n",
       "2006-02-21 18:46:29.781147650  <a href=\"http://twitter.com/download/android\" ...   \n",
       "2006-02-21 20:08:50.574708739  <a href=\"http://twitter.com/download/android\" ...   \n",
       "2006-02-23 12:11:10.792851456  <a href=\"http://twitter.com/download/android\" ...   \n",
       "2006-02-23 15:58:27.582468096  <a href=\"https://mobile.twitter.com\" rel=\"nofo...   \n",
       "\n",
       "                                                                            text  \\\n",
       "2006-02-21 17:25:13.831362561  @erikpunjab @Brunoo_Rossa E nao, ainda nao sab...   \n",
       "2006-02-21 18:46:29.781147650  RT @lucasberti: Ã‰ muita gente que nÃ£o sabe a...   \n",
       "2006-02-21 20:08:50.574708739  RT @pavarini: Uma senhora de 73 anos vendia ba...   \n",
       "2006-02-23 12:11:10.792851456  RT @EstevaoSlowP: Se as propostas do governo n...   \n",
       "2006-02-23 15:58:27.582468096  RT @_brenocosta_: MatÃ©ria mais importante do ...   \n",
       "\n",
       "                               truncated  \\\n",
       "2006-02-21 17:25:13.831362561          0   \n",
       "2006-02-21 18:46:29.781147650          0   \n",
       "2006-02-21 20:08:50.574708739          0   \n",
       "2006-02-23 12:11:10.792851456          0   \n",
       "2006-02-23 15:58:27.582468096          0   \n",
       "\n",
       "                                                                            user  \n",
       "2006-02-21 17:25:13.831362561  {'contributors_enabled': False, 'created_at': ...  \n",
       "2006-02-21 18:46:29.781147650  {'contributors_enabled': False, 'created_at': ...  \n",
       "2006-02-21 20:08:50.574708739  {'contributors_enabled': False, 'created_at': ...  \n",
       "2006-02-23 12:11:10.792851456  {'contributors_enabled': False, 'created_at': ...  \n",
       "2006-02-23 15:58:27.582468096  {'contributors_enabled': False, 'created_at': ...  \n",
       "\n",
       "[5 rows x 29 columns]"
      ]
     },
     "execution_count": 103,
     "metadata": {},
     "output_type": "execute_result"
    }
   ],
   "source": [
    "tweet_df.head()"
   ]
  },
  {
   "cell_type": "markdown",
   "metadata": {},
   "source": [
    "Abrir arquivo como json (nativo do Python) para acessar elementos"
   ]
  },
  {
   "cell_type": "code",
   "execution_count": 104,
   "metadata": {},
   "outputs": [],
   "source": [
    "with open(username+\"_tweet_json.json\", \"r\", encoding=\"utf-8\") as read_file:\n",
    "    data = json.load(read_file)"
   ]
  },
  {
   "cell_type": "markdown",
   "metadata": {},
   "source": [
    "Para visualizar se usuário tem conta verificada ou não no Twitter = 'ID do tweet' -> 'user' -> 'verified' (boolean)"
   ]
  },
  {
   "cell_type": "code",
   "execution_count": 105,
   "metadata": {},
   "outputs": [
    {
     "name": "stdout",
     "output_type": "stream",
     "text": [
      "1140799210964414464\n"
     ]
    }
   ],
   "source": [
    "print(tweets_array[0]) # Pegar a id do primeiro tweet"
   ]
  },
  {
   "cell_type": "code",
   "execution_count": 106,
   "metadata": {},
   "outputs": [
    {
     "name": "stdout",
     "output_type": "stream",
     "text": [
      "True\n"
     ]
    }
   ],
   "source": [
    "print(data[tweets_array[1]]['user']['verified'])"
   ]
  },
  {
   "cell_type": "markdown",
   "metadata": {},
   "source": [
    "Organizar colunas mais relevantes para o projeto para melhor visualização"
   ]
  },
  {
   "cell_type": "code",
   "execution_count": 107,
   "metadata": {},
   "outputs": [],
   "source": [
    "new_tweet_df = tweet_df[[\"id\", \"retweet_count\", \"favorite_count\", \"text\", \"retweeted_status\"]].copy()"
   ]
  },
  {
   "cell_type": "code",
   "execution_count": 108,
   "metadata": {},
   "outputs": [
    {
     "data": {
      "text/html": [
       "<div>\n",
       "<style scoped>\n",
       "    .dataframe tbody tr th:only-of-type {\n",
       "        vertical-align: middle;\n",
       "    }\n",
       "\n",
       "    .dataframe tbody tr th {\n",
       "        vertical-align: top;\n",
       "    }\n",
       "\n",
       "    .dataframe thead th {\n",
       "        text-align: right;\n",
       "    }\n",
       "</style>\n",
       "<table border=\"1\" class=\"dataframe\">\n",
       "  <thead>\n",
       "    <tr style=\"text-align: right;\">\n",
       "      <th></th>\n",
       "      <th>id</th>\n",
       "      <th>retweet_count</th>\n",
       "      <th>favorite_count</th>\n",
       "      <th>text</th>\n",
       "      <th>retweeted_status</th>\n",
       "    </tr>\n",
       "  </thead>\n",
       "  <tbody>\n",
       "    <tr>\n",
       "      <th>2006-02-21 17:25:13.831362561</th>\n",
       "      <td>1140542713831362560</td>\n",
       "      <td>0</td>\n",
       "      <td>14</td>\n",
       "      <td>@erikpunjab @Brunoo_Rossa E nao, ainda nao sab...</td>\n",
       "      <td>NaN</td>\n",
       "    </tr>\n",
       "    <tr>\n",
       "      <th>2006-02-21 18:46:29.781147650</th>\n",
       "      <td>1140547589781147648</td>\n",
       "      <td>1645</td>\n",
       "      <td>0</td>\n",
       "      <td>RT @lucasberti: Ã‰ muita gente que nÃ£o sabe a...</td>\n",
       "      <td>{'contributors': None, 'coordinates': None, 'c...</td>\n",
       "    </tr>\n",
       "    <tr>\n",
       "      <th>2006-02-21 20:08:50.574708739</th>\n",
       "      <td>1140552530574708736</td>\n",
       "      <td>4378</td>\n",
       "      <td>0</td>\n",
       "      <td>RT @pavarini: Uma senhora de 73 anos vendia ba...</td>\n",
       "      <td>{'contributors': None, 'coordinates': None, 'c...</td>\n",
       "    </tr>\n",
       "    <tr>\n",
       "      <th>2006-02-23 12:11:10.792851456</th>\n",
       "      <td>1140696670792851456</td>\n",
       "      <td>201</td>\n",
       "      <td>0</td>\n",
       "      <td>RT @EstevaoSlowP: Se as propostas do governo n...</td>\n",
       "      <td>{'contributors': None, 'coordinates': None, 'c...</td>\n",
       "    </tr>\n",
       "    <tr>\n",
       "      <th>2006-02-23 15:58:27.582468096</th>\n",
       "      <td>1140710307582468096</td>\n",
       "      <td>58</td>\n",
       "      <td>0</td>\n",
       "      <td>RT @_brenocosta_: MatÃ©ria mais importante do ...</td>\n",
       "      <td>{'contributors': None, 'coordinates': None, 'c...</td>\n",
       "    </tr>\n",
       "    <tr>\n",
       "      <th>2006-02-23 18:33:08.889395200</th>\n",
       "      <td>1140719588889395200</td>\n",
       "      <td>447</td>\n",
       "      <td>0</td>\n",
       "      <td>RT @carlagastal: Assessor de Bolsonaro recebeu...</td>\n",
       "      <td>{'contributors': None, 'coordinates': None, 'c...</td>\n",
       "    </tr>\n",
       "    <tr>\n",
       "      <th>2006-02-23 19:19:38.642563072</th>\n",
       "      <td>1140722378642563072</td>\n",
       "      <td>0</td>\n",
       "      <td>12</td>\n",
       "      <td>@IsabellaCidade @Loh_Anielly criei direitinho ...</td>\n",
       "      <td>NaN</td>\n",
       "    </tr>\n",
       "    <tr>\n",
       "      <th>2006-02-23 20:45:42.170603520</th>\n",
       "      <td>1140727542170603520</td>\n",
       "      <td>3</td>\n",
       "      <td>450</td>\n",
       "      <td>Que lindo! Que honra &amp;lt;3 https://t.co/E0EylA...</td>\n",
       "      <td>NaN</td>\n",
       "    </tr>\n",
       "    <tr>\n",
       "      <th>2006-02-23 20:57:09.445042176</th>\n",
       "      <td>1140728229445042176</td>\n",
       "      <td>52</td>\n",
       "      <td>5067</td>\n",
       "      <td>Acabo de mandar uma mensagem pra uma amiga com...</td>\n",
       "      <td>NaN</td>\n",
       "    </tr>\n",
       "    <tr>\n",
       "      <th>2006-02-23 21:03:00.755750912</th>\n",
       "      <td>1140728580755750912</td>\n",
       "      <td>21</td>\n",
       "      <td>3422</td>\n",
       "      <td>E as duas sonhamos que estÃ¡vamos fazendo comp...</td>\n",
       "      <td>NaN</td>\n",
       "    </tr>\n",
       "  </tbody>\n",
       "</table>\n",
       "</div>"
      ],
      "text/plain": [
       "                                                id  retweet_count  \\\n",
       "2006-02-21 17:25:13.831362561  1140542713831362560              0   \n",
       "2006-02-21 18:46:29.781147650  1140547589781147648           1645   \n",
       "2006-02-21 20:08:50.574708739  1140552530574708736           4378   \n",
       "2006-02-23 12:11:10.792851456  1140696670792851456            201   \n",
       "2006-02-23 15:58:27.582468096  1140710307582468096             58   \n",
       "2006-02-23 18:33:08.889395200  1140719588889395200            447   \n",
       "2006-02-23 19:19:38.642563072  1140722378642563072              0   \n",
       "2006-02-23 20:45:42.170603520  1140727542170603520              3   \n",
       "2006-02-23 20:57:09.445042176  1140728229445042176             52   \n",
       "2006-02-23 21:03:00.755750912  1140728580755750912             21   \n",
       "\n",
       "                               favorite_count  \\\n",
       "2006-02-21 17:25:13.831362561              14   \n",
       "2006-02-21 18:46:29.781147650               0   \n",
       "2006-02-21 20:08:50.574708739               0   \n",
       "2006-02-23 12:11:10.792851456               0   \n",
       "2006-02-23 15:58:27.582468096               0   \n",
       "2006-02-23 18:33:08.889395200               0   \n",
       "2006-02-23 19:19:38.642563072              12   \n",
       "2006-02-23 20:45:42.170603520             450   \n",
       "2006-02-23 20:57:09.445042176            5067   \n",
       "2006-02-23 21:03:00.755750912            3422   \n",
       "\n",
       "                                                                            text  \\\n",
       "2006-02-21 17:25:13.831362561  @erikpunjab @Brunoo_Rossa E nao, ainda nao sab...   \n",
       "2006-02-21 18:46:29.781147650  RT @lucasberti: Ã‰ muita gente que nÃ£o sabe a...   \n",
       "2006-02-21 20:08:50.574708739  RT @pavarini: Uma senhora de 73 anos vendia ba...   \n",
       "2006-02-23 12:11:10.792851456  RT @EstevaoSlowP: Se as propostas do governo n...   \n",
       "2006-02-23 15:58:27.582468096  RT @_brenocosta_: MatÃ©ria mais importante do ...   \n",
       "2006-02-23 18:33:08.889395200  RT @carlagastal: Assessor de Bolsonaro recebeu...   \n",
       "2006-02-23 19:19:38.642563072  @IsabellaCidade @Loh_Anielly criei direitinho ...   \n",
       "2006-02-23 20:45:42.170603520  Que lindo! Que honra &lt;3 https://t.co/E0EylA...   \n",
       "2006-02-23 20:57:09.445042176  Acabo de mandar uma mensagem pra uma amiga com...   \n",
       "2006-02-23 21:03:00.755750912  E as duas sonhamos que estÃ¡vamos fazendo comp...   \n",
       "\n",
       "                                                                retweeted_status  \n",
       "2006-02-21 17:25:13.831362561                                                NaN  \n",
       "2006-02-21 18:46:29.781147650  {'contributors': None, 'coordinates': None, 'c...  \n",
       "2006-02-21 20:08:50.574708739  {'contributors': None, 'coordinates': None, 'c...  \n",
       "2006-02-23 12:11:10.792851456  {'contributors': None, 'coordinates': None, 'c...  \n",
       "2006-02-23 15:58:27.582468096  {'contributors': None, 'coordinates': None, 'c...  \n",
       "2006-02-23 18:33:08.889395200  {'contributors': None, 'coordinates': None, 'c...  \n",
       "2006-02-23 19:19:38.642563072                                                NaN  \n",
       "2006-02-23 20:45:42.170603520                                                NaN  \n",
       "2006-02-23 20:57:09.445042176                                                NaN  \n",
       "2006-02-23 21:03:00.755750912                                                NaN  "
      ]
     },
     "execution_count": 108,
     "metadata": {},
     "output_type": "execute_result"
    }
   ],
   "source": [
    "new_tweet_df.head(10) # Visualizar apenas os últimos elementos do dataframe"
   ]
  },
  {
   "cell_type": "markdown",
   "metadata": {},
   "source": [
    "Deletar elementos que sejam retweets — elementos retweetados contém dados diferentes de NaN na coluna *retweeted_status*"
   ]
  },
  {
   "cell_type": "code",
   "execution_count": 109,
   "metadata": {},
   "outputs": [],
   "source": [
    "# Substituir 'NaN' por 0\n",
    "new_tweet_df = new_tweet_df.fillna(0)"
   ]
  },
  {
   "cell_type": "code",
   "execution_count": 110,
   "metadata": {},
   "outputs": [
    {
     "data": {
      "text/html": [
       "<div>\n",
       "<style scoped>\n",
       "    .dataframe tbody tr th:only-of-type {\n",
       "        vertical-align: middle;\n",
       "    }\n",
       "\n",
       "    .dataframe tbody tr th {\n",
       "        vertical-align: top;\n",
       "    }\n",
       "\n",
       "    .dataframe thead th {\n",
       "        text-align: right;\n",
       "    }\n",
       "</style>\n",
       "<table border=\"1\" class=\"dataframe\">\n",
       "  <thead>\n",
       "    <tr style=\"text-align: right;\">\n",
       "      <th></th>\n",
       "      <th>id</th>\n",
       "      <th>retweet_count</th>\n",
       "      <th>favorite_count</th>\n",
       "      <th>text</th>\n",
       "      <th>retweeted_status</th>\n",
       "    </tr>\n",
       "  </thead>\n",
       "  <tbody>\n",
       "    <tr>\n",
       "      <th>2006-02-21 17:25:13.831362561</th>\n",
       "      <td>1140542713831362560</td>\n",
       "      <td>0</td>\n",
       "      <td>14</td>\n",
       "      <td>@erikpunjab @Brunoo_Rossa E nao, ainda nao sab...</td>\n",
       "      <td>0</td>\n",
       "    </tr>\n",
       "    <tr>\n",
       "      <th>2006-02-21 18:46:29.781147650</th>\n",
       "      <td>1140547589781147648</td>\n",
       "      <td>1645</td>\n",
       "      <td>0</td>\n",
       "      <td>RT @lucasberti: Ã‰ muita gente que nÃ£o sabe a...</td>\n",
       "      <td>{'contributors': None, 'coordinates': None, 'c...</td>\n",
       "    </tr>\n",
       "    <tr>\n",
       "      <th>2006-02-21 20:08:50.574708739</th>\n",
       "      <td>1140552530574708736</td>\n",
       "      <td>4378</td>\n",
       "      <td>0</td>\n",
       "      <td>RT @pavarini: Uma senhora de 73 anos vendia ba...</td>\n",
       "      <td>{'contributors': None, 'coordinates': None, 'c...</td>\n",
       "    </tr>\n",
       "    <tr>\n",
       "      <th>2006-02-23 12:11:10.792851456</th>\n",
       "      <td>1140696670792851456</td>\n",
       "      <td>201</td>\n",
       "      <td>0</td>\n",
       "      <td>RT @EstevaoSlowP: Se as propostas do governo n...</td>\n",
       "      <td>{'contributors': None, 'coordinates': None, 'c...</td>\n",
       "    </tr>\n",
       "    <tr>\n",
       "      <th>2006-02-23 15:58:27.582468096</th>\n",
       "      <td>1140710307582468096</td>\n",
       "      <td>58</td>\n",
       "      <td>0</td>\n",
       "      <td>RT @_brenocosta_: MatÃ©ria mais importante do ...</td>\n",
       "      <td>{'contributors': None, 'coordinates': None, 'c...</td>\n",
       "    </tr>\n",
       "  </tbody>\n",
       "</table>\n",
       "</div>"
      ],
      "text/plain": [
       "                                                id  retweet_count  \\\n",
       "2006-02-21 17:25:13.831362561  1140542713831362560              0   \n",
       "2006-02-21 18:46:29.781147650  1140547589781147648           1645   \n",
       "2006-02-21 20:08:50.574708739  1140552530574708736           4378   \n",
       "2006-02-23 12:11:10.792851456  1140696670792851456            201   \n",
       "2006-02-23 15:58:27.582468096  1140710307582468096             58   \n",
       "\n",
       "                               favorite_count  \\\n",
       "2006-02-21 17:25:13.831362561              14   \n",
       "2006-02-21 18:46:29.781147650               0   \n",
       "2006-02-21 20:08:50.574708739               0   \n",
       "2006-02-23 12:11:10.792851456               0   \n",
       "2006-02-23 15:58:27.582468096               0   \n",
       "\n",
       "                                                                            text  \\\n",
       "2006-02-21 17:25:13.831362561  @erikpunjab @Brunoo_Rossa E nao, ainda nao sab...   \n",
       "2006-02-21 18:46:29.781147650  RT @lucasberti: Ã‰ muita gente que nÃ£o sabe a...   \n",
       "2006-02-21 20:08:50.574708739  RT @pavarini: Uma senhora de 73 anos vendia ba...   \n",
       "2006-02-23 12:11:10.792851456  RT @EstevaoSlowP: Se as propostas do governo n...   \n",
       "2006-02-23 15:58:27.582468096  RT @_brenocosta_: MatÃ©ria mais importante do ...   \n",
       "\n",
       "                                                                retweeted_status  \n",
       "2006-02-21 17:25:13.831362561                                                  0  \n",
       "2006-02-21 18:46:29.781147650  {'contributors': None, 'coordinates': None, 'c...  \n",
       "2006-02-21 20:08:50.574708739  {'contributors': None, 'coordinates': None, 'c...  \n",
       "2006-02-23 12:11:10.792851456  {'contributors': None, 'coordinates': None, 'c...  \n",
       "2006-02-23 15:58:27.582468096  {'contributors': None, 'coordinates': None, 'c...  "
      ]
     },
     "execution_count": 110,
     "metadata": {},
     "output_type": "execute_result"
    }
   ],
   "source": [
    "new_tweet_df.head()"
   ]
  },
  {
   "cell_type": "code",
   "execution_count": 111,
   "metadata": {},
   "outputs": [],
   "source": [
    "# Deletar todas as linhas que tenham dados diferentes de 0 na coluna retweeted_status\n",
    "new_tweet_df.drop(new_tweet_df.loc[new_tweet_df['retweeted_status'] != 0].index, inplace=True)"
   ]
  },
  {
   "cell_type": "code",
   "execution_count": 112,
   "metadata": {},
   "outputs": [
    {
     "data": {
      "text/html": [
       "<div>\n",
       "<style scoped>\n",
       "    .dataframe tbody tr th:only-of-type {\n",
       "        vertical-align: middle;\n",
       "    }\n",
       "\n",
       "    .dataframe tbody tr th {\n",
       "        vertical-align: top;\n",
       "    }\n",
       "\n",
       "    .dataframe thead th {\n",
       "        text-align: right;\n",
       "    }\n",
       "</style>\n",
       "<table border=\"1\" class=\"dataframe\">\n",
       "  <thead>\n",
       "    <tr style=\"text-align: right;\">\n",
       "      <th></th>\n",
       "      <th>id</th>\n",
       "      <th>retweet_count</th>\n",
       "      <th>favorite_count</th>\n",
       "      <th>text</th>\n",
       "      <th>retweeted_status</th>\n",
       "    </tr>\n",
       "  </thead>\n",
       "  <tbody>\n",
       "    <tr>\n",
       "      <th>2006-02-21 17:25:13.831362561</th>\n",
       "      <td>1140542713831362560</td>\n",
       "      <td>0</td>\n",
       "      <td>14</td>\n",
       "      <td>@erikpunjab @Brunoo_Rossa E nao, ainda nao sab...</td>\n",
       "      <td>0</td>\n",
       "    </tr>\n",
       "    <tr>\n",
       "      <th>2006-02-23 19:19:38.642563072</th>\n",
       "      <td>1140722378642563072</td>\n",
       "      <td>0</td>\n",
       "      <td>12</td>\n",
       "      <td>@IsabellaCidade @Loh_Anielly criei direitinho ...</td>\n",
       "      <td>0</td>\n",
       "    </tr>\n",
       "    <tr>\n",
       "      <th>2006-02-23 20:45:42.170603520</th>\n",
       "      <td>1140727542170603520</td>\n",
       "      <td>3</td>\n",
       "      <td>450</td>\n",
       "      <td>Que lindo! Que honra &amp;lt;3 https://t.co/E0EylA...</td>\n",
       "      <td>0</td>\n",
       "    </tr>\n",
       "    <tr>\n",
       "      <th>2006-02-23 20:57:09.445042176</th>\n",
       "      <td>1140728229445042176</td>\n",
       "      <td>52</td>\n",
       "      <td>5067</td>\n",
       "      <td>Acabo de mandar uma mensagem pra uma amiga com...</td>\n",
       "      <td>0</td>\n",
       "    </tr>\n",
       "    <tr>\n",
       "      <th>2006-02-23 21:03:00.755750912</th>\n",
       "      <td>1140728580755750912</td>\n",
       "      <td>21</td>\n",
       "      <td>3422</td>\n",
       "      <td>E as duas sonhamos que estÃ¡vamos fazendo comp...</td>\n",
       "      <td>0</td>\n",
       "    </tr>\n",
       "    <tr>\n",
       "      <th>2006-02-23 21:19:34.503772160</th>\n",
       "      <td>1140729574503772160</td>\n",
       "      <td>0</td>\n",
       "      <td>90</td>\n",
       "      <td>@JoelPinheiro85 Entao, eu sonhei que estÃ¡vamo...</td>\n",
       "      <td>0</td>\n",
       "    </tr>\n",
       "    <tr>\n",
       "      <th>2006-02-23 22:27:44.638066688</th>\n",
       "      <td>1140733664638066688</td>\n",
       "      <td>3</td>\n",
       "      <td>442</td>\n",
       "      <td>@jovemnerd @J0rg3_4r4uj0 Entao eu nao sou um x...</td>\n",
       "      <td>0</td>\n",
       "    </tr>\n",
       "    <tr>\n",
       "      <th>2006-02-24 02:19:23.525537792</th>\n",
       "      <td>1140747563525537792</td>\n",
       "      <td>0</td>\n",
       "      <td>68</td>\n",
       "      <td>@Dat_Vini @malugaspar uÃ©...</td>\n",
       "      <td>0</td>\n",
       "    </tr>\n",
       "    <tr>\n",
       "      <th>2006-02-24 15:33:54.231570434</th>\n",
       "      <td>1140795234231570432</td>\n",
       "      <td>385</td>\n",
       "      <td>1945</td>\n",
       "      <td>Gente, olha aÃ­ o fundamento do meu pensamento...</td>\n",
       "      <td>0</td>\n",
       "    </tr>\n",
       "    <tr>\n",
       "      <th>2006-02-24 15:50:00.590778368</th>\n",
       "      <td>1140796200590778368</td>\n",
       "      <td>0</td>\n",
       "      <td>5</td>\n",
       "      <td>@LizzardMFK Roy</td>\n",
       "      <td>0</td>\n",
       "    </tr>\n",
       "    <tr>\n",
       "      <th>2006-02-24 16:05:12.570875904</th>\n",
       "      <td>1140797112570875904</td>\n",
       "      <td>0</td>\n",
       "      <td>31</td>\n",
       "      <td>@Nathan0liveira @realDonaldTrump Ele deve ter ...</td>\n",
       "      <td>0</td>\n",
       "    </tr>\n",
       "    <tr>\n",
       "      <th>2006-02-24 16:14:08.758120449</th>\n",
       "      <td>1140797648758120448</td>\n",
       "      <td>126</td>\n",
       "      <td>1685</td>\n",
       "      <td>@metheoro A culpa dessa nova geraÃ§Ã£o nao ent...</td>\n",
       "      <td>0</td>\n",
       "    </tr>\n",
       "    <tr>\n",
       "      <th>2006-02-24 16:40:10.964414464</th>\n",
       "      <td>1140799210964414464</td>\n",
       "      <td>0</td>\n",
       "      <td>22</td>\n",
       "      <td>@thiagocamargo Meu favorito foi o da rebeliÃ£o...</td>\n",
       "      <td>0</td>\n",
       "    </tr>\n",
       "  </tbody>\n",
       "</table>\n",
       "</div>"
      ],
      "text/plain": [
       "                                                id  retweet_count  \\\n",
       "2006-02-21 17:25:13.831362561  1140542713831362560              0   \n",
       "2006-02-23 19:19:38.642563072  1140722378642563072              0   \n",
       "2006-02-23 20:45:42.170603520  1140727542170603520              3   \n",
       "2006-02-23 20:57:09.445042176  1140728229445042176             52   \n",
       "2006-02-23 21:03:00.755750912  1140728580755750912             21   \n",
       "2006-02-23 21:19:34.503772160  1140729574503772160              0   \n",
       "2006-02-23 22:27:44.638066688  1140733664638066688              3   \n",
       "2006-02-24 02:19:23.525537792  1140747563525537792              0   \n",
       "2006-02-24 15:33:54.231570434  1140795234231570432            385   \n",
       "2006-02-24 15:50:00.590778368  1140796200590778368              0   \n",
       "2006-02-24 16:05:12.570875904  1140797112570875904              0   \n",
       "2006-02-24 16:14:08.758120449  1140797648758120448            126   \n",
       "2006-02-24 16:40:10.964414464  1140799210964414464              0   \n",
       "\n",
       "                               favorite_count  \\\n",
       "2006-02-21 17:25:13.831362561              14   \n",
       "2006-02-23 19:19:38.642563072              12   \n",
       "2006-02-23 20:45:42.170603520             450   \n",
       "2006-02-23 20:57:09.445042176            5067   \n",
       "2006-02-23 21:03:00.755750912            3422   \n",
       "2006-02-23 21:19:34.503772160              90   \n",
       "2006-02-23 22:27:44.638066688             442   \n",
       "2006-02-24 02:19:23.525537792              68   \n",
       "2006-02-24 15:33:54.231570434            1945   \n",
       "2006-02-24 15:50:00.590778368               5   \n",
       "2006-02-24 16:05:12.570875904              31   \n",
       "2006-02-24 16:14:08.758120449            1685   \n",
       "2006-02-24 16:40:10.964414464              22   \n",
       "\n",
       "                                                                            text  \\\n",
       "2006-02-21 17:25:13.831362561  @erikpunjab @Brunoo_Rossa E nao, ainda nao sab...   \n",
       "2006-02-23 19:19:38.642563072  @IsabellaCidade @Loh_Anielly criei direitinho ...   \n",
       "2006-02-23 20:45:42.170603520  Que lindo! Que honra &lt;3 https://t.co/E0EylA...   \n",
       "2006-02-23 20:57:09.445042176  Acabo de mandar uma mensagem pra uma amiga com...   \n",
       "2006-02-23 21:03:00.755750912  E as duas sonhamos que estÃ¡vamos fazendo comp...   \n",
       "2006-02-23 21:19:34.503772160  @JoelPinheiro85 Entao, eu sonhei que estÃ¡vamo...   \n",
       "2006-02-23 22:27:44.638066688  @jovemnerd @J0rg3_4r4uj0 Entao eu nao sou um x...   \n",
       "2006-02-24 02:19:23.525537792                       @Dat_Vini @malugaspar uÃ©...   \n",
       "2006-02-24 15:33:54.231570434  Gente, olha aÃ­ o fundamento do meu pensamento...   \n",
       "2006-02-24 15:50:00.590778368                                    @LizzardMFK Roy   \n",
       "2006-02-24 16:05:12.570875904  @Nathan0liveira @realDonaldTrump Ele deve ter ...   \n",
       "2006-02-24 16:14:08.758120449  @metheoro A culpa dessa nova geraÃ§Ã£o nao ent...   \n",
       "2006-02-24 16:40:10.964414464  @thiagocamargo Meu favorito foi o da rebeliÃ£o...   \n",
       "\n",
       "                              retweeted_status  \n",
       "2006-02-21 17:25:13.831362561                0  \n",
       "2006-02-23 19:19:38.642563072                0  \n",
       "2006-02-23 20:45:42.170603520                0  \n",
       "2006-02-23 20:57:09.445042176                0  \n",
       "2006-02-23 21:03:00.755750912                0  \n",
       "2006-02-23 21:19:34.503772160                0  \n",
       "2006-02-23 22:27:44.638066688                0  \n",
       "2006-02-24 02:19:23.525537792                0  \n",
       "2006-02-24 15:33:54.231570434                0  \n",
       "2006-02-24 15:50:00.590778368                0  \n",
       "2006-02-24 16:05:12.570875904                0  \n",
       "2006-02-24 16:14:08.758120449                0  \n",
       "2006-02-24 16:40:10.964414464                0  "
      ]
     },
     "execution_count": 112,
     "metadata": {},
     "output_type": "execute_result"
    }
   ],
   "source": [
    "new_tweet_df.head(20)"
   ]
  },
  {
   "cell_type": "markdown",
   "metadata": {},
   "source": [
    "Soma de todos os valores de *retweet_count*"
   ]
  },
  {
   "cell_type": "code",
   "execution_count": 113,
   "metadata": {},
   "outputs": [
    {
     "data": {
      "text/plain": [
       "590"
      ]
     },
     "execution_count": 113,
     "metadata": {},
     "output_type": "execute_result"
    }
   ],
   "source": [
    "new_tweet_df['retweet_count'].sum()"
   ]
  },
  {
   "cell_type": "markdown",
   "metadata": {},
   "source": [
    "Soma de todos os valores de *favorite_count*"
   ]
  },
  {
   "cell_type": "code",
   "execution_count": 114,
   "metadata": {},
   "outputs": [
    {
     "data": {
      "text/plain": [
       "13253"
      ]
     },
     "execution_count": 114,
     "metadata": {},
     "output_type": "execute_result"
    }
   ],
   "source": [
    "new_tweet_df['favorite_count'].sum()"
   ]
  },
  {
   "cell_type": "markdown",
   "metadata": {},
   "source": [
    "Média de retweets"
   ]
  },
  {
   "cell_type": "code",
   "execution_count": 115,
   "metadata": {},
   "outputs": [
    {
     "data": {
      "text/plain": [
       "45.38461538461539"
      ]
     },
     "execution_count": 115,
     "metadata": {},
     "output_type": "execute_result"
    }
   ],
   "source": [
    "new_tweet_df['retweet_count'].mean()"
   ]
  },
  {
   "cell_type": "markdown",
   "metadata": {},
   "source": [
    "Média de favoritos"
   ]
  },
  {
   "cell_type": "code",
   "execution_count": 116,
   "metadata": {},
   "outputs": [
    {
     "data": {
      "text/plain": [
       "1019.4615384615385"
      ]
     },
     "execution_count": 116,
     "metadata": {},
     "output_type": "execute_result"
    }
   ],
   "source": [
    "new_tweet_df['favorite_count'].mean()"
   ]
  },
  {
   "cell_type": "markdown",
   "metadata": {},
   "source": [
    "Média ponderada — nota 0 a 10"
   ]
  },
  {
   "cell_type": "code",
   "execution_count": 117,
   "metadata": {},
   "outputs": [
    {
     "name": "stdout",
     "output_type": "stream",
     "text": [
      "8187\n"
     ]
    }
   ],
   "source": [
    "soma_retweet = new_tweet_df['retweet_count'].sum()\n",
    "peso_retweet = 4\n",
    "soma_like = new_tweet_df['favorite_count'].sum()\n",
    "peso_like = 6\n",
    "media = int(((soma_retweet * peso_retweet)+(soma_like * peso_like)) / (peso_retweet + peso_like))\n",
    "# print((str(media)[:1])+'.'+(str(media)[1:2]))\n",
    "print(media)"
   ]
  },
  {
   "cell_type": "code",
   "execution_count": 96,
   "metadata": {},
   "outputs": [],
   "source": [
    "tweets_array=[]\n",
    "def get_tweets_score(username):\n",
    "    \n",
    "    # Quantidade dos últimos tweets a serem baixados\n",
    "    number_of_tweets = 20\n",
    "      \n",
    "    # Método para pegar a id dos últimos number_of_tweets e colocá-los em um vetor\n",
    "    for tweet in tweepy.Cursor(api.user_timeline, screen_name = username).items(number_of_tweets):\n",
    "        tweets_array.append(tweet.id_str)      \n",
    "    \n",
    "    # Método para iterar sobre o vetor de ids dos tweets e pegar as informações pelo api.get_status de cada um\n",
    "    # Obs.: Algumas informações dos tweets só podem ser acessadas pela conta premium/enterprise\n",
    "    tweet_data = {}\n",
    "    for tweet in tweets_array:\n",
    "\n",
    "        try:\n",
    "            tweet_status = api.get_status(tweet,\n",
    "                                          wait_on_rate_limit=True, # A API contém um limite de requerimentos\n",
    "                                          wait_on_rate_limit_notify=True)\n",
    "            tweet_data[str(tweet)] = tweet_status._json\n",
    "#             print(\"Bem-sucedido: \" + str(tweet))\n",
    "        except: \n",
    "            print(\"Error for: \" + str(tweet))\n",
    "        \n",
    "    # Método para salvar os elementos em um arquivo externo json\n",
    "    with open(username +'_tweet_json.json', 'w', encoding=\"utf-8\") as file:\n",
    "        json.dump(tweet_data, file, sort_keys = True, indent=4, ensure_ascii = False)\n",
    "        \n",
    "    tweet_df = pd.read_json(username+'_tweet_json.json',orient='index')\n",
    "\n",
    "    with open(username+\"_tweet_json.json\", \"r\", encoding=\"utf-8\") as read_file:\n",
    "        data = json.load(read_file)\n",
    "\n",
    "    ver = (data[tweets_array[1]]['user']['verified'])\n",
    "    if(ver == True):\n",
    "        verified = 1\n",
    "    else:\n",
    "        verified = 0\n",
    "\n",
    "    if \"retweeted_status\" in tweet_df:\n",
    "        new_tweet_df = tweet_df[[\"id\", \"retweet_count\", \"favorite_count\", \"text\", \"retweeted_status\"]].copy()\n",
    "        new_tweet_df = new_tweet_df.fillna(0)\n",
    "        new_tweet_df.drop(new_tweet_df.loc[new_tweet_df['retweeted_status'] != 0].index, inplace=True)\n",
    "    else:\n",
    "        new_tweet_df = tweet_df[[\"id\", \"retweet_count\", \"favorite_count\", \"text\"]].copy()\n",
    "\n",
    "    soma_retweet = new_tweet_df['retweet_count'].sum()\n",
    "    soma_like = new_tweet_df['favorite_count'].sum()\n",
    "    peso_retweet = 5\n",
    "    peso_like = 3\n",
    "    peso_verified = 2\n",
    "\n",
    "    media = int(((soma_retweet * peso_retweet)+(soma_like * peso_like)+(verified * peso_verified)) / (peso_retweet + peso_like + peso_verified))\n",
    "#     print((str(media)[:1])+'.'+(str(media)[1:2]))\n",
    "    print(media)\n",
    "    \n",
    "    import os\n",
    "    if os.path.exists(username+\"_tweet_json.json\"):\n",
    "      os.remove(username+\"_tweet_json.json\")\n",
    "    else:\n",
    "      print(\"The file does not exist\")"
   ]
  },
  {
   "cell_type": "code",
   "execution_count": 97,
   "metadata": {},
   "outputs": [
    {
     "name": "stdout",
     "output_type": "stream",
     "text": [
      "177312\n"
     ]
    }
   ],
   "source": [
    "username = \"katyperry\"\n",
    "get_tweets_score(username)"
   ]
  },
  {
   "cell_type": "code",
   "execution_count": 118,
   "metadata": {},
   "outputs": [
    {
     "name": "stdout",
     "output_type": "stream",
     "text": [
      "4298\n"
     ]
    }
   ],
   "source": [
    "username = \"baguy_chan\"\n",
    "get_tweets_score(username)"
   ]
  },
  {
   "cell_type": "markdown",
   "metadata": {},
   "source": [
    "------\n",
    "Deletar arquivo criado"
   ]
  },
  {
   "cell_type": "code",
   "execution_count": 19,
   "metadata": {},
   "outputs": [],
   "source": [
    "# Deletar arquivo json criado\n",
    "import os\n",
    "if os.path.exists(username+\"_tweet_json.json\"):\n",
    "  os.remove(username+\"_tweet_json.json\")\n",
    "else:\n",
    "  print(\"The file does not exist\")"
   ]
  },
  {
   "cell_type": "markdown",
   "metadata": {},
   "source": [
    "Referências"
   ]
  },
  {
   "cell_type": "markdown",
   "metadata": {},
   "source": [
    "- https://developer.twitter.com/en/docs.html\n",
    "- https://developer.twitter.com/en/docs/tweets/timelines/api-reference/get-statuses-user_timeline\n",
    "- http://www.getlaura.com/how-to-download-tweets-from-the-twitter-api/"
   ]
  }
 ],
 "metadata": {
  "kernelspec": {
   "display_name": "Python 3",
   "language": "python",
   "name": "python3"
  },
  "language_info": {
   "codemirror_mode": {
    "name": "ipython",
    "version": 3
   },
   "file_extension": ".py",
   "mimetype": "text/x-python",
   "name": "python",
   "nbconvert_exporter": "python",
   "pygments_lexer": "ipython3",
   "version": "3.7.3"
  }
 },
 "nbformat": 4,
 "nbformat_minor": 2
}
