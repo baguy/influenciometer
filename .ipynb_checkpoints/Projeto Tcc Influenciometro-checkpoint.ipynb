{
 "cells": [
  {
   "cell_type": "markdown",
   "metadata": {},
   "source": [
    "# Projeto TCC Análise e Desenvolvimento de Sistemas\n",
    "## Influenciômetro do Twitter\n",
    "### Mayra Dantas Bueno\n",
    "### Orientador Nelson Alves Pinto\n",
    "Última atualização: 15/06/2019"
   ]
  },
  {
   "cell_type": "markdown",
   "metadata": {},
   "source": [
    "------\n",
    "\n",
    "Importações"
   ]
  },
  {
   "cell_type": "code",
   "execution_count": 20,
   "metadata": {},
   "outputs": [],
   "source": [
    "import pandas as pd # Biblioteca para manipulação e análise de dados [criação de dataframes]\n",
    "import numpy as np # Pacote matrizes multidimensionais e funções matemáticas\n",
    "import requests # Biblioteca para facilitar requerimentos HTTP\n",
    "import tweepy # Python library for accessing the Twitter API\n",
    "import csv # Pacote para salvar e manipular arquivos s=em csv[planilhas excel] \n",
    "import matplotlib.pyplot as plt # Biblioteca para gráficos a partir de dataframes\n",
    "%matplotlib inline\n",
    "import seaborn as sns # Biblioteca para visualização de dados baseada no matplotlib\n",
    "import json # Pacote para manipular objetos json\n",
    "import sys # Módulo "
   ]
  },
  {
   "cell_type": "markdown",
   "metadata": {},
   "source": [
    "API Twitter — chaves de acesso e autenticação"
   ]
  },
  {
   "cell_type": "code",
   "execution_count": 21,
   "metadata": {},
   "outputs": [],
   "source": [
    "# Chaves de acesso pessoais da minha conta de desenvolvedor\n",
    "consumer_key = 'vnlljRtKjusgUnb6Z94qXwh3Z'\n",
    "consumer_secret = 'gngW9Srlr455Ewp7O4rREwrzF8wGzTVwIk7g0X7qanudpVUbSc'\n",
    "access_key = '117315994-SmnRQtkZFX06DRGEe1lxz0mUYCB8IeeAsCD6oQme'\n",
    "access_secret = 'iNXvSjdnLohzMNND6YZgokRrtumSYGOioxdtY4flz64gY'\n",
    "\n",
    "# consumer_key = '0ghyEAF6kpmUsGCMgD6UmmseF'\n",
    "# consumer_secret = 'qbkuS60rFWmNeVPSHsI7BUpbvuL58GjNUkefeIpr4YKwusDriC '\n",
    "# access_key = '117315994-DEYRsIZCsGK9cfgfjfrbOPmtzbC0VxfdFsVszYzw'\n",
    "# access_secret = 'PvFW5rfsjCzSW70AxZZz3j6UcJtgR5vrh6erJGPoP16rV'\n",
    "\n",
    "#Autenticar minhas chaves de acesso\n",
    "auth = tweepy.OAuthHandler(consumer_key, consumer_secret)\n",
    "auth.set_access_token(access_key, access_secret)\n",
    "\n",
    "api = tweepy.API(auth, wait_on_rate_limit=True, wait_on_rate_limit_notify=True)"
   ]
  },
  {
   "cell_type": "markdown",
   "metadata": {},
   "source": [
    "Função principal — pegar elementos dos últimos tweets de determinado usuário"
   ]
  },
  {
   "cell_type": "code",
   "execution_count": 22,
   "metadata": {},
   "outputs": [],
   "source": [
    "# Função para pegar id dos últimos 20 tweets de um usuário e salvar em arquivo json\n",
    "# param: [str] nome_do_usuario sem '@'\n",
    "# return: arquivo json\n",
    "tweets_array=[]\n",
    "def get_tweets(username):\n",
    "    \n",
    "    # Quantidade dos últimos tweets a serem baixados\n",
    "    number_of_tweets = 20\n",
    "      \n",
    "    # Método para pegar a id dos últimos number_of_tweets e colocá-los em um vetor\n",
    "    for tweet in tweepy.Cursor(api.user_timeline, screen_name = username).items(number_of_tweets):\n",
    "        tweets_array.append(tweet.id_str)      \n",
    "    \n",
    "    # Método para iterar sobre o vetor de ids dos tweets e pegar as informações pelo api.get_status de cada um\n",
    "    # Obs.: Algumas informações dos tweets só podem ser acessadas pela conta premium/enterprise\n",
    "    tweet_data = {}\n",
    "    for tweet in tweets_array:\n",
    "\n",
    "        try:\n",
    "            tweet_status = api.get_status(tweet,\n",
    "                                          wait_on_rate_limit=True, # A API contém um limite de requerimentos\n",
    "                                          wait_on_rate_limit_notify=True)\n",
    "            tweet_data[str(tweet)] = tweet_status._json\n",
    "#             print(\"Bem-sucedido: \" + str(tweet))\n",
    "        except: \n",
    "            print(\"Error for: \" + str(tweet))\n",
    "        \n",
    "    # Método para salvar os elementos em um arquivo externo json\n",
    "    with open(username +'_tweet_json.json', 'w', encoding=\"utf-8\") as file:\n",
    "        json.dump(tweet_data, file, sort_keys = True, indent=4, ensure_ascii = False)"
   ]
  },
  {
   "cell_type": "markdown",
   "metadata": {},
   "source": [
    "Chamar método — mensagem de confirmação/erro e arquivo json salvo"
   ]
  },
  {
   "cell_type": "code",
   "execution_count": 23,
   "metadata": {},
   "outputs": [
    {
     "name": "stdout",
     "output_type": "stream",
     "text": [
      "Bem-sucedido: 1140454983709499392\n",
      "Bem-sucedido: 1140453836223471616\n",
      "Bem-sucedido: 1140437069681967104\n",
      "Bem-sucedido: 1140432342420357120\n",
      "Bem-sucedido: 1140425433432772609\n",
      "Bem-sucedido: 1140423994828419073\n",
      "Bem-sucedido: 1140423395462397952\n",
      "Bem-sucedido: 1140422421574381568\n",
      "Bem-sucedido: 1140416656428023808\n",
      "Bem-sucedido: 1140411753911554049\n",
      "Bem-sucedido: 1140401769484181504\n",
      "Bem-sucedido: 1140400564129296384\n",
      "Bem-sucedido: 1140398794497908738\n",
      "Bem-sucedido: 1140380866473943040\n",
      "Bem-sucedido: 1140372301617061888\n",
      "Bem-sucedido: 1140372131286409216\n",
      "Bem-sucedido: 1140368390881628161\n",
      "Bem-sucedido: 1140367376279457793\n",
      "Bem-sucedido: 1140342959495188480\n",
      "Bem-sucedido: 1140334373872422912\n"
     ]
    }
   ],
   "source": [
    "username = \"nilmoretto\"\n",
    "get_tweets(username)"
   ]
  },
  {
   "cell_type": "markdown",
   "metadata": {},
   "source": [
    "Criação de dataframe com informações do json para avaliação"
   ]
  },
  {
   "cell_type": "code",
   "execution_count": 24,
   "metadata": {},
   "outputs": [],
   "source": [
    "tweet_df = pd.read_json(username+'_tweet_json.json',orient='index')"
   ]
  },
  {
   "cell_type": "markdown",
   "metadata": {},
   "source": [
    "Exploração do dataframe"
   ]
  },
  {
   "cell_type": "code",
   "execution_count": 25,
   "metadata": {},
   "outputs": [
    {
     "data": {
      "text/html": [
       "<div>\n",
       "<style scoped>\n",
       "    .dataframe tbody tr th:only-of-type {\n",
       "        vertical-align: middle;\n",
       "    }\n",
       "\n",
       "    .dataframe tbody tr th {\n",
       "        vertical-align: top;\n",
       "    }\n",
       "\n",
       "    .dataframe thead th {\n",
       "        text-align: right;\n",
       "    }\n",
       "</style>\n",
       "<table border=\"1\" class=\"dataframe\">\n",
       "  <thead>\n",
       "    <tr style=\"text-align: right;\">\n",
       "      <th></th>\n",
       "      <th>contributors</th>\n",
       "      <th>coordinates</th>\n",
       "      <th>created_at</th>\n",
       "      <th>entities</th>\n",
       "      <th>extended_entities</th>\n",
       "      <th>favorite_count</th>\n",
       "      <th>favorited</th>\n",
       "      <th>geo</th>\n",
       "      <th>id</th>\n",
       "      <th>id_str</th>\n",
       "      <th>...</th>\n",
       "      <th>quoted_status</th>\n",
       "      <th>quoted_status_id</th>\n",
       "      <th>quoted_status_id_str</th>\n",
       "      <th>retweet_count</th>\n",
       "      <th>retweeted</th>\n",
       "      <th>retweeted_status</th>\n",
       "      <th>source</th>\n",
       "      <th>text</th>\n",
       "      <th>truncated</th>\n",
       "      <th>user</th>\n",
       "    </tr>\n",
       "  </thead>\n",
       "  <tbody>\n",
       "    <tr>\n",
       "      <th>2006-02-19 07:32:53.872422912</th>\n",
       "      <td>NaN</td>\n",
       "      <td>NaN</td>\n",
       "      <td>2019-06-16 19:04:35</td>\n",
       "      <td>{'hashtags': [], 'symbols': [], 'urls': [], 'u...</td>\n",
       "      <td>NaN</td>\n",
       "      <td>6</td>\n",
       "      <td>0</td>\n",
       "      <td>NaN</td>\n",
       "      <td>1140334373872422912</td>\n",
       "      <td>1140334373872422912</td>\n",
       "      <td>...</td>\n",
       "      <td>NaN</td>\n",
       "      <td>NaN</td>\n",
       "      <td>NaN</td>\n",
       "      <td>0</td>\n",
       "      <td>0</td>\n",
       "      <td>NaN</td>\n",
       "      <td>&lt;a href=\"https://mobile.twitter.com\" rel=\"nofo...</td>\n",
       "      <td>@DarkHoward @zeantoniolima Fujimori e ChÃ¡vez ...</td>\n",
       "      <td>0</td>\n",
       "      <td>{'contributors_enabled': False, 'created_at': ...</td>\n",
       "    </tr>\n",
       "    <tr>\n",
       "      <th>2006-02-19 09:55:59.495188480</th>\n",
       "      <td>NaN</td>\n",
       "      <td>NaN</td>\n",
       "      <td>2019-06-16 19:38:42</td>\n",
       "      <td>{'hashtags': [], 'symbols': [], 'urls': [], 'u...</td>\n",
       "      <td>NaN</td>\n",
       "      <td>1209</td>\n",
       "      <td>0</td>\n",
       "      <td>NaN</td>\n",
       "      <td>1140342959495188480</td>\n",
       "      <td>1140342959495188480</td>\n",
       "      <td>...</td>\n",
       "      <td>NaN</td>\n",
       "      <td>NaN</td>\n",
       "      <td>NaN</td>\n",
       "      <td>32</td>\n",
       "      <td>0</td>\n",
       "      <td>NaN</td>\n",
       "      <td>&lt;a href=\"https://mobile.twitter.com\" rel=\"nofo...</td>\n",
       "      <td>E aÃ­, seus Assessor 2? qual o nÃ­vel da angÃº...</td>\n",
       "      <td>0</td>\n",
       "      <td>{'contributors_enabled': False, 'created_at': ...</td>\n",
       "    </tr>\n",
       "    <tr>\n",
       "      <th>2006-02-19 16:42:56.279457793</th>\n",
       "      <td>NaN</td>\n",
       "      <td>NaN</td>\n",
       "      <td>2019-06-16 21:15:44</td>\n",
       "      <td>{'hashtags': [], 'symbols': [], 'urls': [{'dis...</td>\n",
       "      <td>NaN</td>\n",
       "      <td>7753</td>\n",
       "      <td>0</td>\n",
       "      <td>NaN</td>\n",
       "      <td>1140367376279457792</td>\n",
       "      <td>1140367376279457792</td>\n",
       "      <td>...</td>\n",
       "      <td>NaN</td>\n",
       "      <td>NaN</td>\n",
       "      <td>NaN</td>\n",
       "      <td>313</td>\n",
       "      <td>0</td>\n",
       "      <td>NaN</td>\n",
       "      <td>&lt;a href=\"http://twitter.com/download/android\" ...</td>\n",
       "      <td>Meu pai salvou esse bichinho hj... Em agradeci...</td>\n",
       "      <td>1</td>\n",
       "      <td>{'contributors_enabled': False, 'created_at': ...</td>\n",
       "    </tr>\n",
       "    <tr>\n",
       "      <th>2006-02-19 16:59:50.881628161</th>\n",
       "      <td>NaN</td>\n",
       "      <td>NaN</td>\n",
       "      <td>2019-06-16 21:19:46</td>\n",
       "      <td>{'hashtags': [], 'symbols': [], 'urls': [], 'u...</td>\n",
       "      <td>NaN</td>\n",
       "      <td>44</td>\n",
       "      <td>0</td>\n",
       "      <td>NaN</td>\n",
       "      <td>1140368390881628160</td>\n",
       "      <td>1140368390881628160</td>\n",
       "      <td>...</td>\n",
       "      <td>NaN</td>\n",
       "      <td>NaN</td>\n",
       "      <td>NaN</td>\n",
       "      <td>0</td>\n",
       "      <td>0</td>\n",
       "      <td>NaN</td>\n",
       "      <td>&lt;a href=\"http://twitter.com/download/android\" ...</td>\n",
       "      <td>@monstxrjoon Ã‰ mesmo</td>\n",
       "      <td>0</td>\n",
       "      <td>{'contributors_enabled': False, 'created_at': ...</td>\n",
       "    </tr>\n",
       "    <tr>\n",
       "      <th>2006-02-19 18:02:11.286409216</th>\n",
       "      <td>NaN</td>\n",
       "      <td>NaN</td>\n",
       "      <td>2019-06-16 21:34:37</td>\n",
       "      <td>{'hashtags': [], 'symbols': [], 'urls': [{'dis...</td>\n",
       "      <td>NaN</td>\n",
       "      <td>0</td>\n",
       "      <td>0</td>\n",
       "      <td>NaN</td>\n",
       "      <td>1140372131286409216</td>\n",
       "      <td>1140372131286409216</td>\n",
       "      <td>...</td>\n",
       "      <td>NaN</td>\n",
       "      <td>1.140356e+18</td>\n",
       "      <td>1.140356e+18</td>\n",
       "      <td>1118</td>\n",
       "      <td>0</td>\n",
       "      <td>{'contributors': None, 'coordinates': None, 'c...</td>\n",
       "      <td>&lt;a href=\"http://twitter.com/download/android\" ...</td>\n",
       "      <td>RT @delarabru: Mano O BRASIL NÃƒO TEM PRÃ�NCIP...</td>\n",
       "      <td>0</td>\n",
       "      <td>{'contributors_enabled': False, 'created_at': ...</td>\n",
       "    </tr>\n",
       "  </tbody>\n",
       "</table>\n",
       "<p>5 rows × 30 columns</p>\n",
       "</div>"
      ],
      "text/plain": [
       "                               contributors  coordinates          created_at  \\\n",
       "2006-02-19 07:32:53.872422912           NaN          NaN 2019-06-16 19:04:35   \n",
       "2006-02-19 09:55:59.495188480           NaN          NaN 2019-06-16 19:38:42   \n",
       "2006-02-19 16:42:56.279457793           NaN          NaN 2019-06-16 21:15:44   \n",
       "2006-02-19 16:59:50.881628161           NaN          NaN 2019-06-16 21:19:46   \n",
       "2006-02-19 18:02:11.286409216           NaN          NaN 2019-06-16 21:34:37   \n",
       "\n",
       "                                                                        entities  \\\n",
       "2006-02-19 07:32:53.872422912  {'hashtags': [], 'symbols': [], 'urls': [], 'u...   \n",
       "2006-02-19 09:55:59.495188480  {'hashtags': [], 'symbols': [], 'urls': [], 'u...   \n",
       "2006-02-19 16:42:56.279457793  {'hashtags': [], 'symbols': [], 'urls': [{'dis...   \n",
       "2006-02-19 16:59:50.881628161  {'hashtags': [], 'symbols': [], 'urls': [], 'u...   \n",
       "2006-02-19 18:02:11.286409216  {'hashtags': [], 'symbols': [], 'urls': [{'dis...   \n",
       "\n",
       "                              extended_entities  favorite_count  favorited  \\\n",
       "2006-02-19 07:32:53.872422912               NaN               6          0   \n",
       "2006-02-19 09:55:59.495188480               NaN            1209          0   \n",
       "2006-02-19 16:42:56.279457793               NaN            7753          0   \n",
       "2006-02-19 16:59:50.881628161               NaN              44          0   \n",
       "2006-02-19 18:02:11.286409216               NaN               0          0   \n",
       "\n",
       "                               geo                   id               id_str  \\\n",
       "2006-02-19 07:32:53.872422912  NaN  1140334373872422912  1140334373872422912   \n",
       "2006-02-19 09:55:59.495188480  NaN  1140342959495188480  1140342959495188480   \n",
       "2006-02-19 16:42:56.279457793  NaN  1140367376279457792  1140367376279457792   \n",
       "2006-02-19 16:59:50.881628161  NaN  1140368390881628160  1140368390881628160   \n",
       "2006-02-19 18:02:11.286409216  NaN  1140372131286409216  1140372131286409216   \n",
       "\n",
       "                               ... quoted_status  quoted_status_id  \\\n",
       "2006-02-19 07:32:53.872422912  ...           NaN               NaN   \n",
       "2006-02-19 09:55:59.495188480  ...           NaN               NaN   \n",
       "2006-02-19 16:42:56.279457793  ...           NaN               NaN   \n",
       "2006-02-19 16:59:50.881628161  ...           NaN               NaN   \n",
       "2006-02-19 18:02:11.286409216  ...           NaN      1.140356e+18   \n",
       "\n",
       "                               quoted_status_id_str  retweet_count  retweeted  \\\n",
       "2006-02-19 07:32:53.872422912                   NaN              0          0   \n",
       "2006-02-19 09:55:59.495188480                   NaN             32          0   \n",
       "2006-02-19 16:42:56.279457793                   NaN            313          0   \n",
       "2006-02-19 16:59:50.881628161                   NaN              0          0   \n",
       "2006-02-19 18:02:11.286409216          1.140356e+18           1118          0   \n",
       "\n",
       "                                                                retweeted_status  \\\n",
       "2006-02-19 07:32:53.872422912                                                NaN   \n",
       "2006-02-19 09:55:59.495188480                                                NaN   \n",
       "2006-02-19 16:42:56.279457793                                                NaN   \n",
       "2006-02-19 16:59:50.881628161                                                NaN   \n",
       "2006-02-19 18:02:11.286409216  {'contributors': None, 'coordinates': None, 'c...   \n",
       "\n",
       "                                                                          source  \\\n",
       "2006-02-19 07:32:53.872422912  <a href=\"https://mobile.twitter.com\" rel=\"nofo...   \n",
       "2006-02-19 09:55:59.495188480  <a href=\"https://mobile.twitter.com\" rel=\"nofo...   \n",
       "2006-02-19 16:42:56.279457793  <a href=\"http://twitter.com/download/android\" ...   \n",
       "2006-02-19 16:59:50.881628161  <a href=\"http://twitter.com/download/android\" ...   \n",
       "2006-02-19 18:02:11.286409216  <a href=\"http://twitter.com/download/android\" ...   \n",
       "\n",
       "                                                                            text  \\\n",
       "2006-02-19 07:32:53.872422912  @DarkHoward @zeantoniolima Fujimori e ChÃ¡vez ...   \n",
       "2006-02-19 09:55:59.495188480  E aÃ­, seus Assessor 2? qual o nÃ­vel da angÃº...   \n",
       "2006-02-19 16:42:56.279457793  Meu pai salvou esse bichinho hj... Em agradeci...   \n",
       "2006-02-19 16:59:50.881628161                              @monstxrjoon Ã‰ mesmo   \n",
       "2006-02-19 18:02:11.286409216  RT @delarabru: Mano O BRASIL NÃƒO TEM PRÃ�NCIP...   \n",
       "\n",
       "                               truncated  \\\n",
       "2006-02-19 07:32:53.872422912          0   \n",
       "2006-02-19 09:55:59.495188480          0   \n",
       "2006-02-19 16:42:56.279457793          1   \n",
       "2006-02-19 16:59:50.881628161          0   \n",
       "2006-02-19 18:02:11.286409216          0   \n",
       "\n",
       "                                                                            user  \n",
       "2006-02-19 07:32:53.872422912  {'contributors_enabled': False, 'created_at': ...  \n",
       "2006-02-19 09:55:59.495188480  {'contributors_enabled': False, 'created_at': ...  \n",
       "2006-02-19 16:42:56.279457793  {'contributors_enabled': False, 'created_at': ...  \n",
       "2006-02-19 16:59:50.881628161  {'contributors_enabled': False, 'created_at': ...  \n",
       "2006-02-19 18:02:11.286409216  {'contributors_enabled': False, 'created_at': ...  \n",
       "\n",
       "[5 rows x 30 columns]"
      ]
     },
     "execution_count": 25,
     "metadata": {},
     "output_type": "execute_result"
    }
   ],
   "source": [
    "tweet_df.head()"
   ]
  },
  {
   "cell_type": "markdown",
   "metadata": {},
   "source": [
    "Abrir arquivo como json (nativo do Python) para acessar elementos"
   ]
  },
  {
   "cell_type": "code",
   "execution_count": 26,
   "metadata": {},
   "outputs": [],
   "source": [
    "with open(username+\"_tweet_json.json\", \"r\", encoding=\"utf-8\") as read_file:\n",
    "    data = json.load(read_file)"
   ]
  },
  {
   "cell_type": "markdown",
   "metadata": {},
   "source": [
    "Para visualizar se usuário tem conta verificada ou não no Twitter = 'ID do tweet' -> 'user' -> 'verified' (boolean)"
   ]
  },
  {
   "cell_type": "code",
   "execution_count": 27,
   "metadata": {},
   "outputs": [
    {
     "name": "stdout",
     "output_type": "stream",
     "text": [
      "1140454983709499392\n"
     ]
    }
   ],
   "source": [
    "print(tweets_array[0]) # Pegar a id do primeiro tweet"
   ]
  },
  {
   "cell_type": "code",
   "execution_count": 28,
   "metadata": {},
   "outputs": [
    {
     "name": "stdout",
     "output_type": "stream",
     "text": [
      "True\n"
     ]
    }
   ],
   "source": [
    "print(data[tweets_array[1]]['user']['verified'])"
   ]
  },
  {
   "cell_type": "markdown",
   "metadata": {},
   "source": [
    "Organizar colunas mais relevantes para o projeto para melhor visualização"
   ]
  },
  {
   "cell_type": "code",
   "execution_count": 29,
   "metadata": {},
   "outputs": [],
   "source": [
    "new_tweet_df = tweet_df[[\"id\", \"retweet_count\", \"favorite_count\", \"text\", \"retweeted_status\"]].copy()"
   ]
  },
  {
   "cell_type": "code",
   "execution_count": 30,
   "metadata": {},
   "outputs": [
    {
     "data": {
      "text/html": [
       "<div>\n",
       "<style scoped>\n",
       "    .dataframe tbody tr th:only-of-type {\n",
       "        vertical-align: middle;\n",
       "    }\n",
       "\n",
       "    .dataframe tbody tr th {\n",
       "        vertical-align: top;\n",
       "    }\n",
       "\n",
       "    .dataframe thead th {\n",
       "        text-align: right;\n",
       "    }\n",
       "</style>\n",
       "<table border=\"1\" class=\"dataframe\">\n",
       "  <thead>\n",
       "    <tr style=\"text-align: right;\">\n",
       "      <th></th>\n",
       "      <th>id</th>\n",
       "      <th>retweet_count</th>\n",
       "      <th>favorite_count</th>\n",
       "      <th>text</th>\n",
       "      <th>retweeted_status</th>\n",
       "    </tr>\n",
       "  </thead>\n",
       "  <tbody>\n",
       "    <tr>\n",
       "      <th>2006-02-19 07:32:53.872422912</th>\n",
       "      <td>1140334373872422912</td>\n",
       "      <td>0</td>\n",
       "      <td>6</td>\n",
       "      <td>@DarkHoward @zeantoniolima Fujimori e ChÃ¡vez ...</td>\n",
       "      <td>NaN</td>\n",
       "    </tr>\n",
       "    <tr>\n",
       "      <th>2006-02-19 09:55:59.495188480</th>\n",
       "      <td>1140342959495188480</td>\n",
       "      <td>32</td>\n",
       "      <td>1209</td>\n",
       "      <td>E aÃ­, seus Assessor 2? qual o nÃ­vel da angÃº...</td>\n",
       "      <td>NaN</td>\n",
       "    </tr>\n",
       "    <tr>\n",
       "      <th>2006-02-19 16:42:56.279457793</th>\n",
       "      <td>1140367376279457792</td>\n",
       "      <td>313</td>\n",
       "      <td>7753</td>\n",
       "      <td>Meu pai salvou esse bichinho hj... Em agradeci...</td>\n",
       "      <td>NaN</td>\n",
       "    </tr>\n",
       "    <tr>\n",
       "      <th>2006-02-19 16:59:50.881628161</th>\n",
       "      <td>1140368390881628160</td>\n",
       "      <td>0</td>\n",
       "      <td>44</td>\n",
       "      <td>@monstxrjoon Ã‰ mesmo</td>\n",
       "      <td>NaN</td>\n",
       "    </tr>\n",
       "    <tr>\n",
       "      <th>2006-02-19 18:02:11.286409216</th>\n",
       "      <td>1140372131286409216</td>\n",
       "      <td>1118</td>\n",
       "      <td>0</td>\n",
       "      <td>RT @delarabru: Mano O BRASIL NÃƒO TEM PRÃ�NCIP...</td>\n",
       "      <td>{'contributors': None, 'coordinates': None, 'c...</td>\n",
       "    </tr>\n",
       "    <tr>\n",
       "      <th>2006-02-19 18:05:01.617061888</th>\n",
       "      <td>1140372301617061888</td>\n",
       "      <td>3389</td>\n",
       "      <td>0</td>\n",
       "      <td>RT @lf_ds: Um guri de 23 anos concluiu o Ensin...</td>\n",
       "      <td>{'contributors': None, 'coordinates': None, 'c...</td>\n",
       "    </tr>\n",
       "    <tr>\n",
       "      <th>2006-02-19 20:27:46.473943040</th>\n",
       "      <td>1140380866473943040</td>\n",
       "      <td>10</td>\n",
       "      <td>0</td>\n",
       "      <td>RT @strangerwsh: fiz o bolo do talento supremo...</td>\n",
       "      <td>{'contributors': None, 'coordinates': None, 'c...</td>\n",
       "    </tr>\n",
       "    <tr>\n",
       "      <th>2006-02-20 01:26:34.497908738</th>\n",
       "      <td>1140398794497908736</td>\n",
       "      <td>687</td>\n",
       "      <td>0</td>\n",
       "      <td>RT @nadanovonofront: Muito chato quando vocÃª ...</td>\n",
       "      <td>{'contributors': None, 'coordinates': None, 'c...</td>\n",
       "    </tr>\n",
       "    <tr>\n",
       "      <th>2006-02-20 01:56:04.129296384</th>\n",
       "      <td>1140400564129296384</td>\n",
       "      <td>3</td>\n",
       "      <td>448</td>\n",
       "      <td>@rosana ðŸ˜± por favor, compre e coma! o molin...</td>\n",
       "      <td>NaN</td>\n",
       "    </tr>\n",
       "    <tr>\n",
       "      <th>2006-02-20 02:16:09.484181504</th>\n",
       "      <td>1140401769484181504</td>\n",
       "      <td>231</td>\n",
       "      <td>0</td>\n",
       "      <td>RT @VEJA: Levy caiu ao rejeitar caÃ§a Ã s brux...</td>\n",
       "      <td>{'contributors': None, 'coordinates': None, 'c...</td>\n",
       "    </tr>\n",
       "  </tbody>\n",
       "</table>\n",
       "</div>"
      ],
      "text/plain": [
       "                                                id  retweet_count  \\\n",
       "2006-02-19 07:32:53.872422912  1140334373872422912              0   \n",
       "2006-02-19 09:55:59.495188480  1140342959495188480             32   \n",
       "2006-02-19 16:42:56.279457793  1140367376279457792            313   \n",
       "2006-02-19 16:59:50.881628161  1140368390881628160              0   \n",
       "2006-02-19 18:02:11.286409216  1140372131286409216           1118   \n",
       "2006-02-19 18:05:01.617061888  1140372301617061888           3389   \n",
       "2006-02-19 20:27:46.473943040  1140380866473943040             10   \n",
       "2006-02-20 01:26:34.497908738  1140398794497908736            687   \n",
       "2006-02-20 01:56:04.129296384  1140400564129296384              3   \n",
       "2006-02-20 02:16:09.484181504  1140401769484181504            231   \n",
       "\n",
       "                               favorite_count  \\\n",
       "2006-02-19 07:32:53.872422912               6   \n",
       "2006-02-19 09:55:59.495188480            1209   \n",
       "2006-02-19 16:42:56.279457793            7753   \n",
       "2006-02-19 16:59:50.881628161              44   \n",
       "2006-02-19 18:02:11.286409216               0   \n",
       "2006-02-19 18:05:01.617061888               0   \n",
       "2006-02-19 20:27:46.473943040               0   \n",
       "2006-02-20 01:26:34.497908738               0   \n",
       "2006-02-20 01:56:04.129296384             448   \n",
       "2006-02-20 02:16:09.484181504               0   \n",
       "\n",
       "                                                                            text  \\\n",
       "2006-02-19 07:32:53.872422912  @DarkHoward @zeantoniolima Fujimori e ChÃ¡vez ...   \n",
       "2006-02-19 09:55:59.495188480  E aÃ­, seus Assessor 2? qual o nÃ­vel da angÃº...   \n",
       "2006-02-19 16:42:56.279457793  Meu pai salvou esse bichinho hj... Em agradeci...   \n",
       "2006-02-19 16:59:50.881628161                              @monstxrjoon Ã‰ mesmo   \n",
       "2006-02-19 18:02:11.286409216  RT @delarabru: Mano O BRASIL NÃƒO TEM PRÃ�NCIP...   \n",
       "2006-02-19 18:05:01.617061888  RT @lf_ds: Um guri de 23 anos concluiu o Ensin...   \n",
       "2006-02-19 20:27:46.473943040  RT @strangerwsh: fiz o bolo do talento supremo...   \n",
       "2006-02-20 01:26:34.497908738  RT @nadanovonofront: Muito chato quando vocÃª ...   \n",
       "2006-02-20 01:56:04.129296384  @rosana ðŸ˜± por favor, compre e coma! o molin...   \n",
       "2006-02-20 02:16:09.484181504  RT @VEJA: Levy caiu ao rejeitar caÃ§a Ã s brux...   \n",
       "\n",
       "                                                                retweeted_status  \n",
       "2006-02-19 07:32:53.872422912                                                NaN  \n",
       "2006-02-19 09:55:59.495188480                                                NaN  \n",
       "2006-02-19 16:42:56.279457793                                                NaN  \n",
       "2006-02-19 16:59:50.881628161                                                NaN  \n",
       "2006-02-19 18:02:11.286409216  {'contributors': None, 'coordinates': None, 'c...  \n",
       "2006-02-19 18:05:01.617061888  {'contributors': None, 'coordinates': None, 'c...  \n",
       "2006-02-19 20:27:46.473943040  {'contributors': None, 'coordinates': None, 'c...  \n",
       "2006-02-20 01:26:34.497908738  {'contributors': None, 'coordinates': None, 'c...  \n",
       "2006-02-20 01:56:04.129296384                                                NaN  \n",
       "2006-02-20 02:16:09.484181504  {'contributors': None, 'coordinates': None, 'c...  "
      ]
     },
     "execution_count": 30,
     "metadata": {},
     "output_type": "execute_result"
    }
   ],
   "source": [
    "new_tweet_df.head(10) # Visualizar apenas os últimos elementos do dataframe"
   ]
  },
  {
   "cell_type": "markdown",
   "metadata": {},
   "source": [
    "Deletar elementos que sejam retweets — elementos retweetados contém dados diferentes de NaN na coluna *retweeted_status*"
   ]
  },
  {
   "cell_type": "code",
   "execution_count": 31,
   "metadata": {},
   "outputs": [],
   "source": [
    "# Substituir 'NaN' por 0\n",
    "new_tweet_df = new_tweet_df.fillna(0)"
   ]
  },
  {
   "cell_type": "code",
   "execution_count": 32,
   "metadata": {},
   "outputs": [
    {
     "data": {
      "text/html": [
       "<div>\n",
       "<style scoped>\n",
       "    .dataframe tbody tr th:only-of-type {\n",
       "        vertical-align: middle;\n",
       "    }\n",
       "\n",
       "    .dataframe tbody tr th {\n",
       "        vertical-align: top;\n",
       "    }\n",
       "\n",
       "    .dataframe thead th {\n",
       "        text-align: right;\n",
       "    }\n",
       "</style>\n",
       "<table border=\"1\" class=\"dataframe\">\n",
       "  <thead>\n",
       "    <tr style=\"text-align: right;\">\n",
       "      <th></th>\n",
       "      <th>id</th>\n",
       "      <th>retweet_count</th>\n",
       "      <th>favorite_count</th>\n",
       "      <th>text</th>\n",
       "      <th>retweeted_status</th>\n",
       "    </tr>\n",
       "  </thead>\n",
       "  <tbody>\n",
       "    <tr>\n",
       "      <th>2006-02-19 07:32:53.872422912</th>\n",
       "      <td>1140334373872422912</td>\n",
       "      <td>0</td>\n",
       "      <td>6</td>\n",
       "      <td>@DarkHoward @zeantoniolima Fujimori e ChÃ¡vez ...</td>\n",
       "      <td>0</td>\n",
       "    </tr>\n",
       "    <tr>\n",
       "      <th>2006-02-19 09:55:59.495188480</th>\n",
       "      <td>1140342959495188480</td>\n",
       "      <td>32</td>\n",
       "      <td>1209</td>\n",
       "      <td>E aÃ­, seus Assessor 2? qual o nÃ­vel da angÃº...</td>\n",
       "      <td>0</td>\n",
       "    </tr>\n",
       "    <tr>\n",
       "      <th>2006-02-19 16:42:56.279457793</th>\n",
       "      <td>1140367376279457792</td>\n",
       "      <td>313</td>\n",
       "      <td>7753</td>\n",
       "      <td>Meu pai salvou esse bichinho hj... Em agradeci...</td>\n",
       "      <td>0</td>\n",
       "    </tr>\n",
       "    <tr>\n",
       "      <th>2006-02-19 16:59:50.881628161</th>\n",
       "      <td>1140368390881628160</td>\n",
       "      <td>0</td>\n",
       "      <td>44</td>\n",
       "      <td>@monstxrjoon Ã‰ mesmo</td>\n",
       "      <td>0</td>\n",
       "    </tr>\n",
       "    <tr>\n",
       "      <th>2006-02-19 18:02:11.286409216</th>\n",
       "      <td>1140372131286409216</td>\n",
       "      <td>1118</td>\n",
       "      <td>0</td>\n",
       "      <td>RT @delarabru: Mano O BRASIL NÃƒO TEM PRÃ�NCIP...</td>\n",
       "      <td>{'contributors': None, 'coordinates': None, 'c...</td>\n",
       "    </tr>\n",
       "  </tbody>\n",
       "</table>\n",
       "</div>"
      ],
      "text/plain": [
       "                                                id  retweet_count  \\\n",
       "2006-02-19 07:32:53.872422912  1140334373872422912              0   \n",
       "2006-02-19 09:55:59.495188480  1140342959495188480             32   \n",
       "2006-02-19 16:42:56.279457793  1140367376279457792            313   \n",
       "2006-02-19 16:59:50.881628161  1140368390881628160              0   \n",
       "2006-02-19 18:02:11.286409216  1140372131286409216           1118   \n",
       "\n",
       "                               favorite_count  \\\n",
       "2006-02-19 07:32:53.872422912               6   \n",
       "2006-02-19 09:55:59.495188480            1209   \n",
       "2006-02-19 16:42:56.279457793            7753   \n",
       "2006-02-19 16:59:50.881628161              44   \n",
       "2006-02-19 18:02:11.286409216               0   \n",
       "\n",
       "                                                                            text  \\\n",
       "2006-02-19 07:32:53.872422912  @DarkHoward @zeantoniolima Fujimori e ChÃ¡vez ...   \n",
       "2006-02-19 09:55:59.495188480  E aÃ­, seus Assessor 2? qual o nÃ­vel da angÃº...   \n",
       "2006-02-19 16:42:56.279457793  Meu pai salvou esse bichinho hj... Em agradeci...   \n",
       "2006-02-19 16:59:50.881628161                              @monstxrjoon Ã‰ mesmo   \n",
       "2006-02-19 18:02:11.286409216  RT @delarabru: Mano O BRASIL NÃƒO TEM PRÃ�NCIP...   \n",
       "\n",
       "                                                                retweeted_status  \n",
       "2006-02-19 07:32:53.872422912                                                  0  \n",
       "2006-02-19 09:55:59.495188480                                                  0  \n",
       "2006-02-19 16:42:56.279457793                                                  0  \n",
       "2006-02-19 16:59:50.881628161                                                  0  \n",
       "2006-02-19 18:02:11.286409216  {'contributors': None, 'coordinates': None, 'c...  "
      ]
     },
     "execution_count": 32,
     "metadata": {},
     "output_type": "execute_result"
    }
   ],
   "source": [
    "new_tweet_df.head()"
   ]
  },
  {
   "cell_type": "code",
   "execution_count": 33,
   "metadata": {},
   "outputs": [],
   "source": [
    "# Deletar todas as linhas que tenham dados diferentes de 0 na coluna retweeted_status\n",
    "new_tweet_df.drop(new_tweet_df.loc[new_tweet_df['retweeted_status'] != 0].index, inplace=True)"
   ]
  },
  {
   "cell_type": "code",
   "execution_count": 34,
   "metadata": {},
   "outputs": [
    {
     "data": {
      "text/html": [
       "<div>\n",
       "<style scoped>\n",
       "    .dataframe tbody tr th:only-of-type {\n",
       "        vertical-align: middle;\n",
       "    }\n",
       "\n",
       "    .dataframe tbody tr th {\n",
       "        vertical-align: top;\n",
       "    }\n",
       "\n",
       "    .dataframe thead th {\n",
       "        text-align: right;\n",
       "    }\n",
       "</style>\n",
       "<table border=\"1\" class=\"dataframe\">\n",
       "  <thead>\n",
       "    <tr style=\"text-align: right;\">\n",
       "      <th></th>\n",
       "      <th>id</th>\n",
       "      <th>retweet_count</th>\n",
       "      <th>favorite_count</th>\n",
       "      <th>text</th>\n",
       "      <th>retweeted_status</th>\n",
       "    </tr>\n",
       "  </thead>\n",
       "  <tbody>\n",
       "    <tr>\n",
       "      <th>2006-02-19 07:32:53.872422912</th>\n",
       "      <td>1140334373872422912</td>\n",
       "      <td>0</td>\n",
       "      <td>6</td>\n",
       "      <td>@DarkHoward @zeantoniolima Fujimori e ChÃ¡vez ...</td>\n",
       "      <td>0</td>\n",
       "    </tr>\n",
       "    <tr>\n",
       "      <th>2006-02-19 09:55:59.495188480</th>\n",
       "      <td>1140342959495188480</td>\n",
       "      <td>32</td>\n",
       "      <td>1209</td>\n",
       "      <td>E aÃ­, seus Assessor 2? qual o nÃ­vel da angÃº...</td>\n",
       "      <td>0</td>\n",
       "    </tr>\n",
       "    <tr>\n",
       "      <th>2006-02-19 16:42:56.279457793</th>\n",
       "      <td>1140367376279457792</td>\n",
       "      <td>313</td>\n",
       "      <td>7753</td>\n",
       "      <td>Meu pai salvou esse bichinho hj... Em agradeci...</td>\n",
       "      <td>0</td>\n",
       "    </tr>\n",
       "    <tr>\n",
       "      <th>2006-02-19 16:59:50.881628161</th>\n",
       "      <td>1140368390881628160</td>\n",
       "      <td>0</td>\n",
       "      <td>44</td>\n",
       "      <td>@monstxrjoon Ã‰ mesmo</td>\n",
       "      <td>0</td>\n",
       "    </tr>\n",
       "    <tr>\n",
       "      <th>2006-02-20 01:56:04.129296384</th>\n",
       "      <td>1140400564129296384</td>\n",
       "      <td>3</td>\n",
       "      <td>448</td>\n",
       "      <td>@rosana ðŸ˜± por favor, compre e coma! o molin...</td>\n",
       "      <td>0</td>\n",
       "    </tr>\n",
       "    <tr>\n",
       "      <th>2006-02-20 06:24:16.428023808</th>\n",
       "      <td>1140416656428023808</td>\n",
       "      <td>160</td>\n",
       "      <td>1663</td>\n",
       "      <td>Os caras (mesma turminha de sempre)  nem se es...</td>\n",
       "      <td>0</td>\n",
       "    </tr>\n",
       "    <tr>\n",
       "      <th>2006-02-20 08:00:21.574381568</th>\n",
       "      <td>1140422421574381568</td>\n",
       "      <td>0</td>\n",
       "      <td>36</td>\n",
       "      <td>@DjalmaMusetti beijao pra sua filhota https://...</td>\n",
       "      <td>0</td>\n",
       "    </tr>\n",
       "    <tr>\n",
       "      <th>2006-02-20 08:16:35.462397952</th>\n",
       "      <td>1140423395462397952</td>\n",
       "      <td>0</td>\n",
       "      <td>2</td>\n",
       "      <td>@MTAugusto2 e muito</td>\n",
       "      <td>0</td>\n",
       "    </tr>\n",
       "    <tr>\n",
       "      <th>2006-02-20 08:50:33.432772609</th>\n",
       "      <td>1140425433432772608</td>\n",
       "      <td>96</td>\n",
       "      <td>1015</td>\n",
       "      <td>Gente, vai lÃ¡ ler! De graÃ§a! Esta Ã© uma obr...</td>\n",
       "      <td>0</td>\n",
       "    </tr>\n",
       "    <tr>\n",
       "      <th>2006-02-20 10:45:42.420357120</th>\n",
       "      <td>1140432342420357120</td>\n",
       "      <td>1</td>\n",
       "      <td>11</td>\n",
       "      <td>@strangerwsh cresci numa Ã©poca sem internet, ...</td>\n",
       "      <td>0</td>\n",
       "    </tr>\n",
       "    <tr>\n",
       "      <th>2006-02-20 12:04:29.681967104</th>\n",
       "      <td>1140437069681967104</td>\n",
       "      <td>0</td>\n",
       "      <td>11</td>\n",
       "      <td>@ladyrasta Seria lindo</td>\n",
       "      <td>0</td>\n",
       "    </tr>\n",
       "    <tr>\n",
       "      <th>2006-02-20 16:43:56.223471616</th>\n",
       "      <td>1140453836223471616</td>\n",
       "      <td>1</td>\n",
       "      <td>27</td>\n",
       "      <td>@Normose_ quem fez a materia?</td>\n",
       "      <td>0</td>\n",
       "    </tr>\n",
       "    <tr>\n",
       "      <th>2006-02-20 17:03:03.709499392</th>\n",
       "      <td>1140454983709499392</td>\n",
       "      <td>2</td>\n",
       "      <td>94</td>\n",
       "      <td>@claysonfelizola sempre os mesmos</td>\n",
       "      <td>0</td>\n",
       "    </tr>\n",
       "  </tbody>\n",
       "</table>\n",
       "</div>"
      ],
      "text/plain": [
       "                                                id  retweet_count  \\\n",
       "2006-02-19 07:32:53.872422912  1140334373872422912              0   \n",
       "2006-02-19 09:55:59.495188480  1140342959495188480             32   \n",
       "2006-02-19 16:42:56.279457793  1140367376279457792            313   \n",
       "2006-02-19 16:59:50.881628161  1140368390881628160              0   \n",
       "2006-02-20 01:56:04.129296384  1140400564129296384              3   \n",
       "2006-02-20 06:24:16.428023808  1140416656428023808            160   \n",
       "2006-02-20 08:00:21.574381568  1140422421574381568              0   \n",
       "2006-02-20 08:16:35.462397952  1140423395462397952              0   \n",
       "2006-02-20 08:50:33.432772609  1140425433432772608             96   \n",
       "2006-02-20 10:45:42.420357120  1140432342420357120              1   \n",
       "2006-02-20 12:04:29.681967104  1140437069681967104              0   \n",
       "2006-02-20 16:43:56.223471616  1140453836223471616              1   \n",
       "2006-02-20 17:03:03.709499392  1140454983709499392              2   \n",
       "\n",
       "                               favorite_count  \\\n",
       "2006-02-19 07:32:53.872422912               6   \n",
       "2006-02-19 09:55:59.495188480            1209   \n",
       "2006-02-19 16:42:56.279457793            7753   \n",
       "2006-02-19 16:59:50.881628161              44   \n",
       "2006-02-20 01:56:04.129296384             448   \n",
       "2006-02-20 06:24:16.428023808            1663   \n",
       "2006-02-20 08:00:21.574381568              36   \n",
       "2006-02-20 08:16:35.462397952               2   \n",
       "2006-02-20 08:50:33.432772609            1015   \n",
       "2006-02-20 10:45:42.420357120              11   \n",
       "2006-02-20 12:04:29.681967104              11   \n",
       "2006-02-20 16:43:56.223471616              27   \n",
       "2006-02-20 17:03:03.709499392              94   \n",
       "\n",
       "                                                                            text  \\\n",
       "2006-02-19 07:32:53.872422912  @DarkHoward @zeantoniolima Fujimori e ChÃ¡vez ...   \n",
       "2006-02-19 09:55:59.495188480  E aÃ­, seus Assessor 2? qual o nÃ­vel da angÃº...   \n",
       "2006-02-19 16:42:56.279457793  Meu pai salvou esse bichinho hj... Em agradeci...   \n",
       "2006-02-19 16:59:50.881628161                              @monstxrjoon Ã‰ mesmo   \n",
       "2006-02-20 01:56:04.129296384  @rosana ðŸ˜± por favor, compre e coma! o molin...   \n",
       "2006-02-20 06:24:16.428023808  Os caras (mesma turminha de sempre)  nem se es...   \n",
       "2006-02-20 08:00:21.574381568  @DjalmaMusetti beijao pra sua filhota https://...   \n",
       "2006-02-20 08:16:35.462397952                                @MTAugusto2 e muito   \n",
       "2006-02-20 08:50:33.432772609  Gente, vai lÃ¡ ler! De graÃ§a! Esta Ã© uma obr...   \n",
       "2006-02-20 10:45:42.420357120  @strangerwsh cresci numa Ã©poca sem internet, ...   \n",
       "2006-02-20 12:04:29.681967104                             @ladyrasta Seria lindo   \n",
       "2006-02-20 16:43:56.223471616                      @Normose_ quem fez a materia?   \n",
       "2006-02-20 17:03:03.709499392                  @claysonfelizola sempre os mesmos   \n",
       "\n",
       "                              retweeted_status  \n",
       "2006-02-19 07:32:53.872422912                0  \n",
       "2006-02-19 09:55:59.495188480                0  \n",
       "2006-02-19 16:42:56.279457793                0  \n",
       "2006-02-19 16:59:50.881628161                0  \n",
       "2006-02-20 01:56:04.129296384                0  \n",
       "2006-02-20 06:24:16.428023808                0  \n",
       "2006-02-20 08:00:21.574381568                0  \n",
       "2006-02-20 08:16:35.462397952                0  \n",
       "2006-02-20 08:50:33.432772609                0  \n",
       "2006-02-20 10:45:42.420357120                0  \n",
       "2006-02-20 12:04:29.681967104                0  \n",
       "2006-02-20 16:43:56.223471616                0  \n",
       "2006-02-20 17:03:03.709499392                0  "
      ]
     },
     "execution_count": 34,
     "metadata": {},
     "output_type": "execute_result"
    }
   ],
   "source": [
    "new_tweet_df.head(20)"
   ]
  },
  {
   "cell_type": "markdown",
   "metadata": {},
   "source": [
    "Soma de todos os valores de *retweet_count*"
   ]
  },
  {
   "cell_type": "code",
   "execution_count": 35,
   "metadata": {},
   "outputs": [
    {
     "data": {
      "text/plain": [
       "608"
      ]
     },
     "execution_count": 35,
     "metadata": {},
     "output_type": "execute_result"
    }
   ],
   "source": [
    "new_tweet_df['retweet_count'].sum()"
   ]
  },
  {
   "cell_type": "markdown",
   "metadata": {},
   "source": [
    "Soma de todos os valores de *favorite_count*"
   ]
  },
  {
   "cell_type": "code",
   "execution_count": 36,
   "metadata": {},
   "outputs": [
    {
     "data": {
      "text/plain": [
       "12319"
      ]
     },
     "execution_count": 36,
     "metadata": {},
     "output_type": "execute_result"
    }
   ],
   "source": [
    "new_tweet_df['favorite_count'].sum()"
   ]
  },
  {
   "cell_type": "markdown",
   "metadata": {},
   "source": [
    "Média de retweets"
   ]
  },
  {
   "cell_type": "code",
   "execution_count": 77,
   "metadata": {},
   "outputs": [
    {
     "data": {
      "text/plain": [
       "46.76923076923077"
      ]
     },
     "execution_count": 77,
     "metadata": {},
     "output_type": "execute_result"
    }
   ],
   "source": [
    "new_tweet_df['retweet_count'].mean()"
   ]
  },
  {
   "cell_type": "markdown",
   "metadata": {},
   "source": [
    "Média de favoritos"
   ]
  },
  {
   "cell_type": "code",
   "execution_count": 78,
   "metadata": {},
   "outputs": [
    {
     "data": {
      "text/plain": [
       "947.6153846153846"
      ]
     },
     "execution_count": 78,
     "metadata": {},
     "output_type": "execute_result"
    }
   ],
   "source": [
    "new_tweet_df['favorite_count'].mean()"
   ]
  },
  {
   "cell_type": "markdown",
   "metadata": {},
   "source": [
    "Média ponderada — nota 0 a 10"
   ]
  },
  {
   "cell_type": "code",
   "execution_count": 81,
   "metadata": {},
   "outputs": [
    {
     "name": "stdout",
     "output_type": "stream",
     "text": [
      "7.6\n"
     ]
    }
   ],
   "source": [
    "soma_retweet = new_tweet_df['retweet_count'].sum()\n",
    "peso_retweet = 4\n",
    "soma_like = new_tweet_df['favorite_count'].sum()\n",
    "peso_like = 6\n",
    "media = int(((soma_retweet * peso_retweet)+(soma_like * peso_like)) / (peso_retweet + peso_like))\n",
    "print((str(media)[:1])+'.'+(str(media)[1:2]))"
   ]
  },
  {
   "cell_type": "code",
   "execution_count": null,
   "metadata": {},
   "outputs": [],
   "source": []
  },
  {
   "cell_type": "markdown",
   "metadata": {},
   "source": [
    "------\n",
    "Deletar arquivo criado"
   ]
  },
  {
   "cell_type": "code",
   "execution_count": 19,
   "metadata": {},
   "outputs": [],
   "source": [
    "# Deletar arquivo json criado\n",
    "import os\n",
    "if os.path.exists(username+\"_tweet_json.json\"):\n",
    "  os.remove(username+\"_tweet_json.json\")\n",
    "else:\n",
    "  print(\"The file does not exist\")"
   ]
  },
  {
   "cell_type": "markdown",
   "metadata": {},
   "source": [
    "Referências"
   ]
  },
  {
   "cell_type": "markdown",
   "metadata": {},
   "source": [
    "- https://developer.twitter.com/en/docs.html\n",
    "- https://developer.twitter.com/en/docs/tweets/timelines/api-reference/get-statuses-user_timeline\n",
    "- http://www.getlaura.com/how-to-download-tweets-from-the-twitter-api/"
   ]
  }
 ],
 "metadata": {
  "kernelspec": {
   "display_name": "Python 3",
   "language": "python",
   "name": "python3"
  },
  "language_info": {
   "codemirror_mode": {
    "name": "ipython",
    "version": 3
   },
   "file_extension": ".py",
   "mimetype": "text/x-python",
   "name": "python",
   "nbconvert_exporter": "python",
   "pygments_lexer": "ipython3",
   "version": "3.7.3"
  }
 },
 "nbformat": 4,
 "nbformat_minor": 2
}
